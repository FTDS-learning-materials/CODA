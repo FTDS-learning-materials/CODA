{
  "nbformat": 4,
  "nbformat_minor": 0,
  "metadata": {
    "colab": {
      "provenance": [],
      "toc_visible": true
    },
    "kernelspec": {
      "name": "python3",
      "display_name": "Python 3"
    },
    "language_info": {
      "name": "python"
    }
  },
  "cells": [
    {
      "cell_type": "markdown",
      "source": [
        "# Apache Kafka on Python\n",
        "\n",
        "**Install Python Kafka**\n",
        "\n",
        "Kafka uses the `kafka-python` library to connect and manage Kafka clusters. Install it with the following command.\n",
        "\n",
        "`!pip install kafka-python`"
      ],
      "metadata": {
        "id": "Yx0LAX9_gTfg"
      }
    },
    {
      "cell_type": "markdown",
      "source": [
        "## Setting Up Kafka Cluster\n",
        "\n",
        "To set up a Kafka cluster locally, you need to install Kafka and Zookeeper on your machine.\n",
        "\n",
        "1. Download Kafka: [Kafka Downloads](https://kafka.apache.org/downloads)\n",
        "2. Extract the downloaded files and navigate to the Kafka directory.\n",
        "3. Start Zookeeper: Open a terminal and run:\n",
        "   ```\n",
        "   bin/zookeeper-server-start.sh config/zookeeper.properties\n",
        "   ```\n",
        "4. Start Kafka server: Open another terminal and run:\n",
        "   ```\n",
        "   bin/kafka-server-start.sh config/server.properties\n",
        "   ```\n",
        "\n",
        "Ensure both Zookeeper and Kafka server are running before proceeding.\n",
        "\n",
        "*You can read the slide for details regarding this*"
      ],
      "metadata": {
        "id": "d7aa_sisgciT"
      }
    },
    {
      "cell_type": "markdown",
      "source": [
        "## Use Case\n",
        "\n",
        "We want to fetch real-time weather data for a city and publish it to a Kafka topic called `weather` for downstream processing.\n",
        "\n",
        "\n",
        "### Dataset\n",
        "\n",
        "We will use data from api https://wttr.in/<city>?format=j1. You can set `<city>` by input the city that you want to know the weather. For example https://wttr.in/jakarta?format=j1.\n",
        "\n",
        "If you want to explore the api, you can go to the url on your browser without `?format=j1`. For example https://wttr.in/jakarta. However, in this case, we only fetch certain data from the json."
      ],
      "metadata": {
        "id": "Gt2d-pi4gpsM"
      }
    },
    {
      "cell_type": "markdown",
      "source": [
        "FIrst of all, we will test the api and get the current condition only"
      ],
      "metadata": {
        "id": "p5pjdU1liQpQ"
      }
    },
    {
      "cell_type": "code",
      "source": [
        "import requests\n",
        "\n",
        "api = requests.get('https://wttr.in/jakarta?format=j1')\n",
        "api.json()['current_condition'][0]"
      ],
      "metadata": {
        "colab": {
          "base_uri": "https://localhost:8080/"
        },
        "id": "zzgY5EEgiQC3",
        "outputId": "d69970f3-ff89-45c7-878a-7fa7532b5f39"
      },
      "execution_count": 1,
      "outputs": [
        {
          "output_type": "execute_result",
          "data": {
            "text/plain": [
              "{'FeelsLikeC': '33',\n",
              " 'FeelsLikeF': '91',\n",
              " 'cloudcover': '25',\n",
              " 'humidity': '75',\n",
              " 'localObsDateTime': '2024-12-07 04:32 PM',\n",
              " 'observation_time': '09:32 AM',\n",
              " 'precipInches': '0.0',\n",
              " 'precipMM': '0.1',\n",
              " 'pressure': '1005',\n",
              " 'pressureInches': '30',\n",
              " 'temp_C': '30',\n",
              " 'temp_F': '86',\n",
              " 'uvIndex': '2',\n",
              " 'visibility': '10',\n",
              " 'visibilityMiles': '6',\n",
              " 'weatherCode': '116',\n",
              " 'weatherDesc': [{'value': 'Partly cloudy'}],\n",
              " 'weatherIconUrl': [{'value': ''}],\n",
              " 'winddir16Point': 'N',\n",
              " 'winddirDegree': '7',\n",
              " 'windspeedKmph': '15',\n",
              " 'windspeedMiles': '10'}"
            ]
          },
          "metadata": {},
          "execution_count": 1
        }
      ]
    },
    {
      "cell_type": "markdown",
      "source": [
        "### Producer Setting\n",
        "\n",
        "```python\n",
        "from kafka import KafkaProducer\n",
        "import json\n",
        "\n",
        "producer = KafkaProducer(\n",
        "    bootstrap_servers='localhost:9092',\n",
        "    value_serializer=lambda v: json.dumps(v).encode('utf-8')\n",
        ")\n",
        "```\n",
        "\n",
        "- `bootstrap_servers='localhost:9092'`: This specifies the Kafka broker(s) that the producer connects to. In this case, the producer connects to a Kafka broker running locally on port 9092. If there are multiple brokers, you can provide them as a comma-separated list.\n",
        "- `value_serializer`: The value_serializer is a function that Kafka uses to convert Python objects into a format suitable for transmission over the network. Kafka sends messages as byte arrays (bytes). The value_serializer transforms your data into this format.\n",
        "\n"
      ],
      "metadata": {
        "id": "Mw6Pkr8ei0Lg"
      }
    },
    {
      "cell_type": "markdown",
      "source": [
        "### Create Topic\n",
        "\n",
        "Don't forget to create topic in terminal/command prompt\n",
        "\n",
        "`bin/kafka-topic.sh --bootstrap-server localhost:9092 --topic weather --create` for Mac/Linux\n",
        "\n",
        "or\n",
        "\n",
        "`bin\\windows\\kafka-topic.bat --bootstrap-server localhost:9092 --topic weather --create` for Windows"
      ],
      "metadata": {
        "id": "BdVHroG6jogh"
      }
    },
    {
      "cell_type": "markdown",
      "source": [
        "### Publish Data from API to Kafka\n",
        "\n",
        "```python\n",
        "data = requests.get(\"https://wttr.in/jakarta?format=j1\").json()['current_condition'][0]\n",
        "producer.send('weather', value=data)\n",
        "```\n",
        "\n",
        "You can compile into a function:\n",
        "\n",
        "```python\n",
        "def producer_data():\n",
        "  producer = KafkaProducer(bootstrap_servers='localhost:9092' value_serializer=lambda v: json.dumps(v).encode('utf-8'))\n",
        "\n",
        "  data = requests.get(\"https://wttr.in/jakarta?format=j1\").json()['current_condition'][0]\n",
        "  producer.send('weather', value=data)\n",
        "```"
      ],
      "metadata": {
        "id": "MNYZEgOdwnIt"
      }
    },
    {
      "cell_type": "markdown",
      "source": [
        "### Kafka Consumer\n",
        "\n",
        "To look at the data you have already sent by producer, you can run the Kafka consumer in command prompt/terminal by running following command:\n",
        "\n",
        "`bin/kafka-console-consumer.sh --bootstrap-server localhost:9092 --topic weather` for Mac/Linux\n",
        "\n",
        "or\n",
        "\n",
        "`bin\\windows\\kafka-console-consumer.bat --bootstrap-server localhost:9092 --topic weather` for Windows"
      ],
      "metadata": {
        "id": "nvhE89Kxzbvr"
      }
    },
    {
      "cell_type": "markdown",
      "source": [
        "### Compile in One Script\n",
        "\n",
        "```python\n",
        "import requests\n",
        "from kafka import KafkaProducer\n",
        "import json\n",
        "\n",
        "\n",
        "def producer_data():\n",
        "  producer = KafkaProducer(bootstrap_servers='localhost:9092' value_serializer=lambda v: json.dumps(v).encode('utf-8'))\n",
        "\n",
        "  data = requests.get(\"https://wttr.in/jakarta?format=j1\").json()['current_condition'][0]\n",
        "  \n",
        "  producer.send('weather', value=data)\n",
        "  print(f'{data} successfully transfered')\n",
        "\n",
        "if __name__ == \"__main__\":\n",
        "  producer_data()\n",
        "```\n",
        "\n",
        "\n",
        "  \n",
        "Save the script into python file (name it as you want) and run in seperate terminal/cmd (**make sure the previous running producer has been shutted down**)."
      ],
      "metadata": {
        "id": "KvhmQT9IdGZR"
      }
    }
  ]
}