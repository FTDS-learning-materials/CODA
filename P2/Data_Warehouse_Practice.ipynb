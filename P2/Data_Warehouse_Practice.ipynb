{
  "nbformat": 4,
  "nbformat_minor": 0,
  "metadata": {
    "colab": {
      "provenance": []
    },
    "kernelspec": {
      "name": "python3",
      "display_name": "Python 3"
    },
    "language_info": {
      "name": "python"
    }
  },
  "cells": [
    {
      "cell_type": "markdown",
      "source": [
        "# Practice\n",
        "\n",
        "You work for ShopNow, a growing e-commerce platform. The company wants to create a data warehouse to analyze business performance.\n",
        "\n",
        "Tasks:\n",
        "1. Designing the data warehouse schema.\n",
        "2. Building and populating the tables in PostgreSQL.\n",
        "3. Creating a sales data mart to focus on analyzing revenue trends and customer behavior."
      ],
      "metadata": {
        "id": "v3dqNEj4wCpA"
      }
    },
    {
      "cell_type": "markdown",
      "source": [
        "# Dataset\n",
        "\n",
        "Tables (in raw transactional format):\n",
        "\n",
        "**orders**\n",
        "- order_id (INT): Unique identifier for the order.\n",
        "- customer_id (INT): Identifier for the customer placing the order.\n",
        "- order_date (DATE): Date when the order was placed.\n",
        "- order_status (VARCHAR): Status of the order (e.g., \"Completed\", \"Cancelled\").\n",
        "- total_amount (NUMERIC): Total value of the order.\n",
        "\n",
        "**products**\n",
        "- product_id (INT): Unique identifier for the product.\n",
        "- product_name (VARCHAR): Name of the product.\n",
        "- category (VARCHAR): Category to which the product belongs.\n",
        "- price (NUMERIC): Price of the product.\n",
        "\n",
        "**order_items**\n",
        "- order_item_id (INT): Unique identifier for the order item.\n",
        "- order_id (INT): Foreign key to the orders table.\n",
        "- product_id (INT): Foreign key to the products table.\n",
        "- quantity (INT): Quantity of the product in the order.\n",
        "- subtotal (NUMERIC): Total price for this order item (quantity × price).\n",
        "\n",
        "**customers**\n",
        "- customer_id (INT): Unique identifier for the customer.\n",
        "- first_name (VARCHAR): Customer's first name.\n",
        "- last_name (VARCHAR): Customer's last name.\n",
        "- email (VARCHAR): Customer's email.\n",
        "- country (VARCHAR): Country of the customer.\n",
        "\n",
        "Here are the sql query to create database, tables, and insert the data sample:\n",
        "\n",
        "```sql\n",
        "\n",
        "CREATE DATABASE ecommerce;\n",
        "\n",
        "CREATE TABLE orders (\n",
        "    order_id INT PRIMARY KEY,\n",
        "    customer_id INT NOT NULL,\n",
        "    order_date DATE NOT NULL,\n",
        "    order_status VARCHAR(50) NOT NULL,\n",
        "    total_amount NUMERIC(10, 2) NOT NULL\n",
        ");\n",
        "\n",
        "CREATE TABLE products (\n",
        "    product_id INT PRIMARY KEY,\n",
        "    product_name VARCHAR(100) NOT NULL,\n",
        "    category VARCHAR(50) NOT NULL,\n",
        "    price NUMERIC(10, 2) NOT NULL\n",
        ");\n",
        "\n",
        "CREATE TABLE order_items (\n",
        "    order_item_id INT PRIMARY KEY,\n",
        "    order_id INT NOT NULL,\n",
        "    product_id INT NOT NULL,\n",
        "    quantity INT NOT NULL,\n",
        "    subtotal NUMERIC(10, 2) NOT NULL,\n",
        "    FOREIGN KEY (order_id) REFERENCES orders(order_id),\n",
        "    FOREIGN KEY (product_id) REFERENCES products(product_id)\n",
        ");\n",
        "\n",
        "CREATE TABLE customers (\n",
        "    customer_id INT PRIMARY KEY,\n",
        "    first_name VARCHAR(50) NOT NULL,\n",
        "    last_name VARCHAR(50) NOT NULL,\n",
        "    email VARCHAR(100) NOT NULL,\n",
        "    country VARCHAR(50) NOT NULL\n",
        ");\n",
        "\n",
        "\n",
        "CREATE TABLE employees (\n",
        "    employee_id INT PRIMARY KEY,\n",
        "    employee_name VARCHAR(100) NOT NULL,\n",
        "    role VARCHAR(50) NOT NULL,\n",
        "    region VARCHAR(50) NOT NULL\n",
        ");\n",
        "\n",
        "\n",
        "INSERT INTO orders (order_id, customer_id, order_date, order_status, total_amount)\n",
        "VALUES\n",
        "(1, 101, '2023-01-01', 'Completed', 200),\n",
        "(2, 102, '2023-01-05', 'Completed', 300),\n",
        "(3, 103, '2023-01-10', 'Cancelled', 0),\n",
        "(4, 101, '2023-01-15', 'Completed', 150);\n",
        "\n",
        "INSERT INTO products (product_id, product_name, category, price)\n",
        "VALUES\n",
        "(1, 'Laptop', 'Electronics', 800),\n",
        "(2, 'Phone', 'Electronics', 500),\n",
        "(3, 'Headphones', 'Accessories', 100),\n",
        "(4, 'Notebook', 'Stationery', 20);\n",
        "\n",
        "INSERT INTO order_items (order_item_id, order_id, product_id, quantity, subtotal)\n",
        "VALUES\n",
        "(1, 1, 1, 1, 800),\n",
        "(2, 1, 3, 2, 200),\n",
        "(3, 2, 2, 1, 500),\n",
        "(4, 4, 4, 5, 100);\n",
        "\n",
        "INSERT INTO customers (customer_id, first_name, last_name, email, country)\n",
        "VALUES\n",
        "(101, 'John', 'Doe', 'john.doe@example.com', 'USA'),\n",
        "(102, 'Jane', 'Smith', 'jane.smith@example.com', 'UK'),\n",
        "(103, 'Michael', 'Brown', 'michael.brown@example.com', 'Canada');\n",
        "\n",
        "INSERT INTO employees (employee_id, employee_name, role, region)\n",
        "VALUES\n",
        "(1, 'Alice Johnson', 'Sales Rep', 'North America'),\n",
        "(2, 'Bob White', 'Sales Rep', 'Europe');\n",
        "\n",
        "```"
      ],
      "metadata": {
        "id": "hmbEY_Iwpl0K"
      }
    },
    {
      "cell_type": "markdown",
      "source": [
        "# Task 1\n",
        "\n",
        "Schema Type: Star Schema\n",
        "\n",
        "- Fact Table: fact_sales\n",
        "  - Measures: Total amount, quantity.\n",
        "  - Keys: Foreign keys to dimension tables (customer_id, product_id, date_id, employee_id).\n",
        "\n",
        "- Dimension Tables:\n",
        "  - dim_customers: Contains customer details.\n",
        "  - dim_products: Contains product details.\n",
        "  - dim_date: Contains a full calendar for date-based analysis.\n"
      ],
      "metadata": {
        "id": "9wV4YlK3wBhJ"
      }
    },
    {
      "cell_type": "markdown",
      "source": [
        "# Task 2\n",
        "\n",
        "## A. Create Tables in PostgreSQL\n",
        "\n",
        "### Dimension Tables\n",
        "`dim_customers`\n",
        "```sql\n",
        "CREATE TABLE dim_customers (\n",
        "    customer_id INT PRIMARY KEY,\n",
        "    first_name VARCHAR(50),\n",
        "    last_name VARCHAR(50),\n",
        "    email VARCHAR(100),\n",
        "    country VARCHAR(50)\n",
        ");\n",
        "\n",
        "```\n",
        "\n",
        "`dim_products`\n",
        "```sql\n",
        "CREATE TABLE dim_products (\n",
        "    product_id INT PRIMARY KEY,\n",
        "    product_name VARCHAR(100),\n",
        "    category VARCHAR(50),\n",
        "    price NUMERIC\n",
        ");\n",
        "```\n",
        "\n",
        "`dim_date`\n",
        "```sql\n",
        "CREATE TABLE dim_date (\n",
        "    date_id SERIAL PRIMARY KEY,\n",
        "    full_date DATE UNIQUE,\n",
        "    year INT,\n",
        "    quarter INT,\n",
        "    month INT,\n",
        "    day INT,\n",
        "    weekday VARCHAR(10)\n",
        ");\n",
        "```\n",
        "\n",
        "### Fact Table\n",
        "`fact_sales`\n",
        "```sql\n",
        "CREATE TABLE fact_sales (\n",
        "    sales_id SERIAL PRIMARY KEY,\n",
        "    order_id INT,\n",
        "    customer_id INT,\n",
        "    product_id INT,\n",
        "    date_id INT,\n",
        "    employee_id INT,\n",
        "    quantity INT,\n",
        "    total_amount NUMERIC,\n",
        "    FOREIGN KEY (customer_id) REFERENCES dim_customers(customer_id),\n",
        "    FOREIGN KEY (product_id) REFERENCES dim_products(product_id),\n",
        "    FOREIGN KEY (date_id) REFERENCES dim_date(date_id),\n",
        "    FOREIGN KEY (employee_id) REFERENCES dim_employees(employee_id)\n",
        ");\n",
        "```"
      ],
      "metadata": {
        "id": "bgaXLr2N6iUT"
      }
    },
    {
      "cell_type": "markdown",
      "source": [
        "## B. Populate Tables\n",
        "\n",
        "**Insert data into dim_customers**\n",
        "```sql\n",
        "INSERT INTO dim_customers (customer_id, first_name, last_name, email, country)\n",
        "SELECT DISTINCT customer_id, first_name, last_name, email, country\n",
        "FROM customers;\n",
        "```\n",
        "\n",
        "**Insert data into dim_products**\n",
        "```sql\n",
        "INSERT INTO dim_products (product_id, product_name, category, price)\n",
        "SELECT DISTINCT product_id, product_name, category, price\n",
        "FROM products;\n",
        "```\n",
        "\n",
        "**Insert data into dim_date**\n",
        "```sql\n",
        "INSERT INTO dim_date (full_date, year, quarter, month, day, weekday)\n",
        "SELECT DISTINCT\n",
        "    order_date AS full_date,\n",
        "    EXTRACT(YEAR FROM order_date) AS year,\n",
        "    EXTRACT(QUARTER FROM order_date) AS quarter,\n",
        "    EXTRACT(MONTH FROM order_date) AS month,\n",
        "    EXTRACT(DAY FROM order_date) AS day,\n",
        "    TO_CHAR(order_date, 'Day') AS weekday\n",
        "FROM orders;\n",
        "```\n",
        "\n",
        "**Insert data into fact_sales**\n",
        "```sql\n",
        "INSERT INTO fact_sales (order_id, customer_id, product_id, date_id, quantity, total_amount)\n",
        "SELECT\n",
        "    o.order_id,\n",
        "    o.customer_id,\n",
        "    oi.product_id,\n",
        "    dd.date_id,\n",
        "    oi.quantity,\n",
        "    o.total_amount\n",
        "FROM\n",
        "    orders o\n",
        "JOIN\n",
        "    order_items oi ON o.order_id = oi.order_id\n",
        "JOIN\n",
        "    dim_date dd ON o.order_date = dd.full_date;\n",
        "```"
      ],
      "metadata": {
        "id": "lDqQoaK066MX"
      }
    },
    {
      "cell_type": "markdown",
      "source": [
        "# Task 3 - Create Data Mart\n",
        "\n",
        "**Create data_mart_sales Schema**\n",
        "```sql\n",
        "CREATE SCHEMA data_mart_sales;\n",
        "```\n",
        "\n",
        "**Create Data Mart Table**\n",
        "```sql\n",
        "CREATE TABLE data_mart_sales.sales_summary (\n",
        "    customer_id INT,\n",
        "    order_date DATE,\n",
        "    category VARCHAR(50),\n",
        "    total_sales NUMERIC\n",
        ");\n",
        "```\n",
        "\n",
        "**Populate the Data Mart**\n",
        "```sql\n",
        "INSERT INTO data_mart_sales.sales_summary (customer_id, order_date, category, total_sales)\n",
        "SELECT\n",
        "    f.customer_id,\n",
        "    d.full_date AS order_date,\n",
        "    p.category,\n",
        "    SUM(f.total_amount) AS total_sales\n",
        "FROM\n",
        "    fact_sales f\n",
        "JOIN\n",
        "    dim_products p ON f.product_id = p.product_id\n",
        "JOIN\n",
        "    dim_date d ON f.date_id = d.date_id\n",
        "GROUP BY\n",
        "    f.customer_id, d.full_date, p.category;\n",
        "```"
      ],
      "metadata": {
        "id": "Lah0ynsm-aOb"
      }
    },
    {
      "cell_type": "markdown",
      "source": [
        "# Data Analysis"
      ],
      "metadata": {
        "id": "igi5oAxy-81M"
      }
    },
    {
      "cell_type": "markdown",
      "source": [
        "## From Data Mart"
      ],
      "metadata": {
        "id": "_yztI7z__e1_"
      }
    },
    {
      "cell_type": "markdown",
      "source": [
        "### Top 5 Customers with Highest Revenue\n",
        "\n",
        "```sql\n",
        "SELECT customer_id, SUM(total_sales) AS total_revenue\n",
        "FROM data_mart_sales.sales_summary\n",
        "GROUP BY customer_id\n",
        "ORDER BY total_revenue DESC\n",
        "LIMIT 5;\n",
        "```"
      ],
      "metadata": {
        "id": "8ePIzW84-_uF"
      }
    },
    {
      "cell_type": "markdown",
      "source": [
        "### Monthly Sales Trends by Category\n",
        "```sql\n",
        "SELECT DATE_TRUNC('month', order_date) AS month, category, SUM(total_sales) AS total_revenue\n",
        "FROM data_mart_sales.sales_summary\n",
        "GROUP BY DATE_TRUNC('month', order_date), category\n",
        "ORDER BY month, category;\n",
        "```"
      ],
      "metadata": {
        "id": "_LSBemSx_FM3"
      }
    },
    {
      "cell_type": "markdown",
      "source": [
        "## From Data Warehouse"
      ],
      "metadata": {
        "id": "nLxccwiN_hdO"
      }
    },
    {
      "cell_type": "markdown",
      "source": [
        "### Top-Selling Products (Last 6 Months)\n",
        "```sql\n",
        "SELECT p.product_name, SUM(f.quantity) AS total_quantity\n",
        "FROM fact_sales f\n",
        "JOIN dim_products p ON f.product_id = p.product_id\n",
        "JOIN dim_date d ON f.date_id = d.date_id\n",
        "WHERE d.full_date >= CURRENT_DATE - INTERVAL '6 months'\n",
        "GROUP BY p.product_name\n",
        "ORDER BY total_quantity DESC;\n",
        "```"
      ],
      "metadata": {
        "id": "_p-Apx4C_I9v"
      }
    },
    {
      "cell_type": "markdown",
      "source": [
        "### Region with Highest Revenue\n",
        "\n",
        "```sql\n",
        "SELECT e.region, SUM(f.total_amount) AS total_revenue\n",
        "FROM fact_sales f\n",
        "JOIN dim_employees e ON f.employee_id = e.employee_id\n",
        "GROUP BY e.region\n",
        "ORDER BY total_revenue DESC;\n",
        "```"
      ],
      "metadata": {
        "id": "BKu01HKy_Trr"
      }
    }
  ]
}