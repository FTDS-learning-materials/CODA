{
  "nbformat": 4,
  "nbformat_minor": 0,
  "metadata": {
    "colab": {
      "provenance": [],
      "toc_visible": true
    },
    "kernelspec": {
      "name": "python3",
      "display_name": "Python 3"
    },
    "language_info": {
      "name": "python"
    }
  },
  "cells": [
    {
      "cell_type": "markdown",
      "source": [
        "# Getting Started"
      ],
      "metadata": {
        "id": "1sSHRTWxfwj3"
      }
    },
    {
      "cell_type": "code",
      "execution_count": 1,
      "metadata": {
        "id": "TZlPFtxhexx9"
      },
      "outputs": [],
      "source": [
        "import pyspark"
      ]
    },
    {
      "cell_type": "code",
      "source": [
        "sc = pyspark.SparkContext()\n",
        "sc"
      ],
      "metadata": {
        "colab": {
          "base_uri": "https://localhost:8080/",
          "height": 190
        },
        "id": "06asHwNyfDUj",
        "outputId": "14143cfb-b853-4053-cbce-3fae0a135095"
      },
      "execution_count": 2,
      "outputs": [
        {
          "output_type": "execute_result",
          "data": {
            "text/plain": [
              "<SparkContext master=local[*] appName=pyspark-shell>"
            ],
            "text/html": [
              "\n",
              "        <div>\n",
              "            <p><b>SparkContext</b></p>\n",
              "\n",
              "            <p><a href=\"http://93ab278a9f21:4040\">Spark UI</a></p>\n",
              "\n",
              "            <dl>\n",
              "              <dt>Version</dt>\n",
              "                <dd><code>v3.5.3</code></dd>\n",
              "              <dt>Master</dt>\n",
              "                <dd><code>local[*]</code></dd>\n",
              "              <dt>AppName</dt>\n",
              "                <dd><code>pyspark-shell</code></dd>\n",
              "            </dl>\n",
              "        </div>\n",
              "        "
            ]
          },
          "metadata": {},
          "execution_count": 2
        }
      ]
    },
    {
      "cell_type": "code",
      "source": [
        "sc.version"
      ],
      "metadata": {
        "colab": {
          "base_uri": "https://localhost:8080/",
          "height": 38
        },
        "id": "fFbxZVnPfLR7",
        "outputId": "85318354-dcd0-417a-f2b0-c95de8fc7fa5"
      },
      "execution_count": 3,
      "outputs": [
        {
          "output_type": "execute_result",
          "data": {
            "text/plain": [
              "'3.5.3'"
            ],
            "application/vnd.google.colaboratory.intrinsic+json": {
              "type": "string"
            }
          },
          "metadata": {},
          "execution_count": 3
        }
      ]
    },
    {
      "cell_type": "code",
      "source": [
        "sc.master"
      ],
      "metadata": {
        "colab": {
          "base_uri": "https://localhost:8080/",
          "height": 38
        },
        "id": "0j3WtQIBfSrc",
        "outputId": "e0d667d8-808f-4bed-e8b8-019939883e46"
      },
      "execution_count": 4,
      "outputs": [
        {
          "output_type": "execute_result",
          "data": {
            "text/plain": [
              "'local[*]'"
            ],
            "application/vnd.google.colaboratory.intrinsic+json": {
              "type": "string"
            }
          },
          "metadata": {},
          "execution_count": 4
        }
      ]
    },
    {
      "cell_type": "markdown",
      "source": [
        "### Spark Session\n",
        "\n",
        "`SparkSession` is the entry point to programming with Spark. It provides a single point of entry to interact with Spark functionality and to create `DataFrame` and `DataSet`. Creating multiple `SparkSessions` and `SparkContexts` can cause issues, so it's best practice to use the `SparkSession.builder.getOrCreate()` method. This returns an existing `SparkSession` if there's already one in the environment, or creates a new one if necessary!"
      ],
      "metadata": {
        "id": "Fjp0q4Z2f0XM"
      }
    },
    {
      "cell_type": "code",
      "source": [
        "from pyspark.sql import SparkSession\n",
        "\n",
        "spark = SparkSession.builder.getOrCreate()\n",
        "spark"
      ],
      "metadata": {
        "colab": {
          "base_uri": "https://localhost:8080/",
          "height": 212
        },
        "id": "brTsh_xcjNPw",
        "outputId": "c72ea9d2-1190-4807-8f8d-8fca57802dd9"
      },
      "execution_count": 6,
      "outputs": [
        {
          "output_type": "execute_result",
          "data": {
            "text/plain": [
              "<pyspark.sql.session.SparkSession at 0x7ccabedf3d30>"
            ],
            "text/html": [
              "\n",
              "            <div>\n",
              "                <p><b>SparkSession - in-memory</b></p>\n",
              "                \n",
              "        <div>\n",
              "            <p><b>SparkContext</b></p>\n",
              "\n",
              "            <p><a href=\"http://93ab278a9f21:4040\">Spark UI</a></p>\n",
              "\n",
              "            <dl>\n",
              "              <dt>Version</dt>\n",
              "                <dd><code>v3.5.3</code></dd>\n",
              "              <dt>Master</dt>\n",
              "                <dd><code>local[*]</code></dd>\n",
              "              <dt>AppName</dt>\n",
              "                <dd><code>pyspark-shell</code></dd>\n",
              "            </dl>\n",
              "        </div>\n",
              "        \n",
              "            </div>\n",
              "        "
            ]
          },
          "metadata": {},
          "execution_count": 6
        }
      ]
    },
    {
      "cell_type": "markdown",
      "source": [
        "## Create RDD"
      ],
      "metadata": {
        "id": "S2S7rBV9oRIW"
      }
    },
    {
      "cell_type": "code",
      "source": [
        "iphones_RDD = sc.parallelize([(\"XS\", 2018, 5.65, 2.79, 6.24),\n",
        "                              (\"XR\", 2018, 5.94, 2.98, 6.84),\n",
        "                              (\"X10\", 2017, 5.65, 2.79, 6.13),\n",
        "                              (\"8Plus\", 2017, 6.23, 3.07, 7.12)])\n",
        "iphones_RDD"
      ],
      "metadata": {
        "colab": {
          "base_uri": "https://localhost:8080/"
        },
        "id": "Xc1CsE1yoSin",
        "outputId": "61d88dc7-90b8-431d-be9f-83f87de1bbc2"
      },
      "execution_count": 18,
      "outputs": [
        {
          "output_type": "execute_result",
          "data": {
            "text/plain": [
              "ParallelCollectionRDD[26] at readRDDFromFile at PythonRDD.scala:289"
            ]
          },
          "metadata": {},
          "execution_count": 18
        }
      ]
    },
    {
      "cell_type": "code",
      "source": [
        "iphones_RDD.collect()"
      ],
      "metadata": {
        "colab": {
          "base_uri": "https://localhost:8080/"
        },
        "id": "bfg9dFvHok1a",
        "outputId": "ac5b200f-99f3-4850-a722-bf0682e0010f"
      },
      "execution_count": 19,
      "outputs": [
        {
          "output_type": "execute_result",
          "data": {
            "text/plain": [
              "[('XS', 2018, 5.65, 2.79, 6.24),\n",
              " ('XR', 2018, 5.94, 2.98, 6.84),\n",
              " ('X10', 2017, 5.65, 2.79, 6.13),\n",
              " ('8Plus', 2017, 6.23, 3.07, 7.12)]"
            ]
          },
          "metadata": {},
          "execution_count": 19
        }
      ]
    },
    {
      "cell_type": "markdown",
      "source": [
        "# Working with PySpark DataFrame"
      ],
      "metadata": {
        "id": "1R4yotE3l1QI"
      }
    },
    {
      "cell_type": "markdown",
      "source": [
        "## Create DataFrame from RDD"
      ],
      "metadata": {
        "id": "M_yNVcd1pad9"
      }
    },
    {
      "cell_type": "code",
      "source": [
        "iphones_RDD = sc.parallelize([(\"XS\", 2018, 5.65, 2.79, 6.24),\n",
        "                              (\"XR\", 2018, 5.94, 2.98, 6.84),\n",
        "                              (\"X10\", 2017, 5.65, 2.79, 6.13),\n",
        "                              (\"8Plus\", 2017, 6.23, 3.07, 7.12)])\n",
        "\n",
        "names = ['Model', 'Year', 'Height', 'Width', 'Weight']\n",
        "iphones_df = spark.createDataFrame(iphones_RDD, schema=names) #schema = list of columns names\n",
        "\n",
        "iphones_df.show()"
      ],
      "metadata": {
        "colab": {
          "base_uri": "https://localhost:8080/"
        },
        "id": "RcsJZFvNoAC4",
        "outputId": "b012f8fb-c5ce-4da2-bddf-b038c6653599"
      },
      "execution_count": 14,
      "outputs": [
        {
          "output_type": "stream",
          "name": "stdout",
          "text": [
            "+-----+----+------+-----+------+\n",
            "|Model|Year|Height|Width|Weight|\n",
            "+-----+----+------+-----+------+\n",
            "|   XS|2018|  5.65| 2.79|  6.24|\n",
            "|   XR|2018|  5.94| 2.98|  6.84|\n",
            "|  X10|2017|  5.65| 2.79|  6.13|\n",
            "|8Plus|2017|  6.23| 3.07|  7.12|\n",
            "+-----+----+------+-----+------+\n",
            "\n"
          ]
        }
      ]
    },
    {
      "cell_type": "markdown",
      "source": [
        "## Create DataFrame from Loading a File"
      ],
      "metadata": {
        "id": "3B3vtULFpct0"
      }
    },
    {
      "cell_type": "markdown",
      "source": [
        "df_csv = spark.read.csv(\"data.csv\", header=True, inferSchema=True)\n",
        "\n",
        "df_json = spark.read.json(\"data.json\")\n",
        "\n",
        "df_txt = spark.read.txt(\"data.txt\")"
      ],
      "metadata": {
        "id": "MvTIM3MDrHaZ"
      }
    },
    {
      "cell_type": "code",
      "source": [
        "!wget https://github.com/fahmimnalfrzki/Dataset/raw/refs/heads/main/Mall%20Customers.csv"
      ],
      "metadata": {
        "colab": {
          "base_uri": "https://localhost:8080/"
        },
        "id": "0myaoeS0rIgG",
        "outputId": "e476b3da-6096-4476-d150-26847ad37cb0"
      },
      "execution_count": 23,
      "outputs": [
        {
          "output_type": "stream",
          "name": "stdout",
          "text": [
            "--2024-11-28 16:48:33--  https://github.com/fahmimnalfrzki/Dataset/raw/refs/heads/main/Mall%20Customers.csv\n",
            "Resolving github.com (github.com)... 140.82.116.3\n",
            "Connecting to github.com (github.com)|140.82.116.3|:443... connected.\n",
            "HTTP request sent, awaiting response... 302 Found\n",
            "Location: https://raw.githubusercontent.com/fahmimnalfrzki/Dataset/refs/heads/main/Mall%20Customers.csv [following]\n",
            "--2024-11-28 16:48:33--  https://raw.githubusercontent.com/fahmimnalfrzki/Dataset/refs/heads/main/Mall%20Customers.csv\n",
            "Resolving raw.githubusercontent.com (raw.githubusercontent.com)... 185.199.108.133, 185.199.109.133, 185.199.110.133, ...\n",
            "Connecting to raw.githubusercontent.com (raw.githubusercontent.com)|185.199.108.133|:443... connected.\n",
            "HTTP request sent, awaiting response... 200 OK\n",
            "Length: 4877 (4.8K) [text/plain]\n",
            "Saving to: ‘Mall Customers.csv’\n",
            "\n",
            "Mall Customers.csv  100%[===================>]   4.76K  --.-KB/s    in 0s      \n",
            "\n",
            "2024-11-28 16:48:34 (30.1 MB/s) - ‘Mall Customers.csv’ saved [4877/4877]\n",
            "\n"
          ]
        }
      ]
    },
    {
      "cell_type": "code",
      "source": [
        "data = spark.read.csv('Mall Customers.csv', header=True, inferSchema=True)\n",
        "data.show()"
      ],
      "metadata": {
        "colab": {
          "base_uri": "https://localhost:8080/"
        },
        "id": "Iseb3EZxpg_c",
        "outputId": "78d146c9-f476-4da6-9d42-b2eaafa18992"
      },
      "execution_count": 69,
      "outputs": [
        {
          "output_type": "stream",
          "name": "stdout",
          "text": [
            "+---+----------+------+---+------------------+----------------------+-----+\n",
            "|_c0|CustomerID|Gender|Age|Annual Income (k$)|Spending Score (1-100)|Label|\n",
            "+---+----------+------+---+------------------+----------------------+-----+\n",
            "|  0|         1|  Male| 19|                15|                    39|    0|\n",
            "|  1|         2|  Male| 21|                15|                    81|    4|\n",
            "|  2|         3|Female| 20|                16|                     6|    0|\n",
            "|  3|         4|Female| 23|                16|                    77|    4|\n",
            "|  4|         5|Female| 31|                17|                    40|    0|\n",
            "|  5|         6|Female| 22|                17|                    76|    4|\n",
            "|  6|         7|Female| 35|                18|                     6|    0|\n",
            "|  7|         8|Female| 23|                18|                    94|    4|\n",
            "|  8|         9|  Male| 64|                19|                     3|    0|\n",
            "|  9|        10|Female| 30|                19|                    72|    4|\n",
            "| 10|        11|  Male| 67|                19|                    14|    0|\n",
            "| 11|        12|Female| 35|                19|                    99|    4|\n",
            "| 12|        13|Female| 58|                20|                    15|    0|\n",
            "| 13|        14|Female| 24|                20|                    77|    4|\n",
            "| 14|        15|  Male| 37|                20|                    13|    0|\n",
            "| 15|        16|  Male| 22|                20|                    79|    4|\n",
            "| 16|        17|Female| 35|                21|                    35|    0|\n",
            "| 17|        18|  Male| 20|                21|                    66|    4|\n",
            "| 18|        19|  Male| 52|                23|                    29|    0|\n",
            "| 19|        20|Female| 35|                23|                    98|    4|\n",
            "+---+----------+------+---+------------------+----------------------+-----+\n",
            "only showing top 20 rows\n",
            "\n"
          ]
        }
      ]
    },
    {
      "cell_type": "markdown",
      "source": [
        "## Simple Data Exploration"
      ],
      "metadata": {
        "id": "a_xJ1hitrd0r"
      }
    },
    {
      "cell_type": "markdown",
      "source": [
        "## Viewing Data"
      ],
      "metadata": {
        "id": "OnnVtc-Urf__"
      }
    },
    {
      "cell_type": "code",
      "source": [
        "# Top 5\n",
        "\n",
        "data.show(5)"
      ],
      "metadata": {
        "colab": {
          "base_uri": "https://localhost:8080/"
        },
        "id": "CTfbZIXbrn8y",
        "outputId": "2850a8ad-9a96-497e-d4f1-6559258ed2bc"
      },
      "execution_count": 27,
      "outputs": [
        {
          "output_type": "stream",
          "name": "stdout",
          "text": [
            "+---+----------+------+---+------------------+----------------------+-----+\n",
            "|_c0|CustomerID|Gender|Age|Annual Income (k$)|Spending Score (1-100)|Label|\n",
            "+---+----------+------+---+------------------+----------------------+-----+\n",
            "|  0|         1|  Male| 19|                15|                    39|    0|\n",
            "|  1|         2|  Male| 21|                15|                    81|    4|\n",
            "|  2|         3|Female| 20|                16|                     6|    0|\n",
            "|  3|         4|Female| 23|                16|                    77|    4|\n",
            "|  4|         5|Female| 31|                17|                    40|    0|\n",
            "+---+----------+------+---+------------------+----------------------+-----+\n",
            "only showing top 5 rows\n",
            "\n"
          ]
        }
      ]
    },
    {
      "cell_type": "code",
      "source": [
        "data.tail(5)"
      ],
      "metadata": {
        "colab": {
          "base_uri": "https://localhost:8080/"
        },
        "id": "KAmtrSaJscHT",
        "outputId": "0e775f41-a244-4100-996b-6b799579b8b0"
      },
      "execution_count": 35,
      "outputs": [
        {
          "output_type": "execute_result",
          "data": {
            "text/plain": [
              "[Row(_c0=195, CustomerID=196, Gender='Female', Age=35, Annual Income (k$)=120, Spending Score (1-100)=79, Label=1),\n",
              " Row(_c0=196, CustomerID=197, Gender='Female', Age=45, Annual Income (k$)=126, Spending Score (1-100)=28, Label=2),\n",
              " Row(_c0=197, CustomerID=198, Gender='Male', Age=32, Annual Income (k$)=126, Spending Score (1-100)=74, Label=1),\n",
              " Row(_c0=198, CustomerID=199, Gender='Male', Age=32, Annual Income (k$)=137, Spending Score (1-100)=18, Label=2),\n",
              " Row(_c0=199, CustomerID=200, Gender='Male', Age=30, Annual Income (k$)=137, Spending Score (1-100)=83, Label=1)]"
            ]
          },
          "metadata": {},
          "execution_count": 35
        }
      ]
    },
    {
      "cell_type": "markdown",
      "source": [
        "The rows can also be shown vertically. This is useful when rows are too long to show horizontally."
      ],
      "metadata": {
        "id": "mnKReo_0sBTt"
      }
    },
    {
      "cell_type": "code",
      "source": [
        "data.show(2, vertical=True)"
      ],
      "metadata": {
        "colab": {
          "base_uri": "https://localhost:8080/"
        },
        "id": "cT__DIessDUD",
        "outputId": "2be50969-3d74-49e8-852e-2e6ad243836c"
      },
      "execution_count": 32,
      "outputs": [
        {
          "output_type": "stream",
          "name": "stdout",
          "text": [
            "-RECORD 0----------------------\n",
            " _c0                    | 0    \n",
            " CustomerID             | 1    \n",
            " Gender                 | Male \n",
            " Age                    | 19   \n",
            " Annual Income (k$)     | 15   \n",
            " Spending Score (1-100) | 39   \n",
            " Label                  | 0    \n",
            "-RECORD 1----------------------\n",
            " _c0                    | 1    \n",
            " CustomerID             | 2    \n",
            " Gender                 | Male \n",
            " Age                    | 21   \n",
            " Annual Income (k$)     | 15   \n",
            " Spending Score (1-100) | 81   \n",
            " Label                  | 4    \n",
            "only showing top 2 rows\n",
            "\n"
          ]
        }
      ]
    },
    {
      "cell_type": "markdown",
      "source": [
        "### Schema Info"
      ],
      "metadata": {
        "id": "B7o0BWx1rwh_"
      }
    },
    {
      "cell_type": "code",
      "source": [
        "data.printSchema()"
      ],
      "metadata": {
        "colab": {
          "base_uri": "https://localhost:8080/"
        },
        "id": "JSDH1N5dr0mt",
        "outputId": "88be6758-3423-4d87-f3cd-ce7efd9dae5b"
      },
      "execution_count": 28,
      "outputs": [
        {
          "output_type": "stream",
          "name": "stdout",
          "text": [
            "root\n",
            " |-- _c0: integer (nullable = true)\n",
            " |-- CustomerID: integer (nullable = true)\n",
            " |-- Gender: string (nullable = true)\n",
            " |-- Age: integer (nullable = true)\n",
            " |-- Annual Income (k$): integer (nullable = true)\n",
            " |-- Spending Score (1-100): integer (nullable = true)\n",
            " |-- Label: integer (nullable = true)\n",
            "\n"
          ]
        }
      ]
    },
    {
      "cell_type": "markdown",
      "source": [
        "### View Columns Names"
      ],
      "metadata": {
        "id": "atKq_Fp3r6GQ"
      }
    },
    {
      "cell_type": "code",
      "source": [
        "data.columns"
      ],
      "metadata": {
        "colab": {
          "base_uri": "https://localhost:8080/"
        },
        "id": "lSw7v_Qfr4dd",
        "outputId": "139fed33-4bfa-4867-9978-b8c1d3b5e8dd"
      },
      "execution_count": 29,
      "outputs": [
        {
          "output_type": "execute_result",
          "data": {
            "text/plain": [
              "['_c0',\n",
              " 'CustomerID',\n",
              " 'Gender',\n",
              " 'Age',\n",
              " 'Annual Income (k$)',\n",
              " 'Spending Score (1-100)',\n",
              " 'Label']"
            ]
          },
          "metadata": {},
          "execution_count": 29
        }
      ]
    },
    {
      "cell_type": "markdown",
      "source": [
        "### Show Description Statistics Summary"
      ],
      "metadata": {
        "id": "l9YDW0ZTsLDK"
      }
    },
    {
      "cell_type": "code",
      "source": [
        "data.describe().show()"
      ],
      "metadata": {
        "colab": {
          "base_uri": "https://localhost:8080/"
        },
        "id": "U47hLpJrsNG7",
        "outputId": "cd701e8b-b328-4ce7-e93f-c2c7d89db6b0"
      },
      "execution_count": 33,
      "outputs": [
        {
          "output_type": "stream",
          "name": "stdout",
          "text": [
            "+-------+------------------+------------------+------+-----------------+------------------+----------------------+------------------+\n",
            "|summary|               _c0|        CustomerID|Gender|              Age|Annual Income (k$)|Spending Score (1-100)|             Label|\n",
            "+-------+------------------+------------------+------+-----------------+------------------+----------------------+------------------+\n",
            "|  count|               200|               200|   200|              200|               200|                   200|               200|\n",
            "|   mean|              99.5|             100.5|  NULL|            38.85|             60.56|                  50.2|              2.19|\n",
            "| stddev|57.879184513951124|57.879184513951124|  NULL|13.96900733155888| 26.26472116527124|    25.823521668370173|1.2088035531676578|\n",
            "|    min|                 0|                 1|Female|               18|                15|                     1|                 0|\n",
            "|    max|               199|               200|  Male|               70|               137|                    99|                 4|\n",
            "+-------+------------------+------------------+------+-----------------+------------------+----------------------+------------------+\n",
            "\n"
          ]
        }
      ]
    },
    {
      "cell_type": "markdown",
      "source": [
        "## Select and Accessing Data"
      ],
      "metadata": {
        "id": "UtHFVxQjsnVE"
      }
    },
    {
      "cell_type": "markdown",
      "source": [
        "### Column\n",
        "\n",
        "PySpark DataFrame is lazily evaluated and simply selecting a column does not trigger the computation but it returns a Column instance."
      ],
      "metadata": {
        "id": "VvwSBtl5uimw"
      }
    },
    {
      "cell_type": "code",
      "source": [
        "data.Gender"
      ],
      "metadata": {
        "colab": {
          "base_uri": "https://localhost:8080/"
        },
        "id": "CcJX0nWFszOB",
        "outputId": "52e27219-9d77-4397-b1f7-830bb429b920"
      },
      "execution_count": 40,
      "outputs": [
        {
          "output_type": "execute_result",
          "data": {
            "text/plain": [
              "Column<'Gender'>"
            ]
          },
          "metadata": {},
          "execution_count": 40
        }
      ]
    },
    {
      "cell_type": "code",
      "source": [
        "data.Gender.show() #It will be error"
      ],
      "metadata": {
        "colab": {
          "base_uri": "https://localhost:8080/",
          "height": 137
        },
        "id": "f7wG3xPptAfc",
        "outputId": "731bd55c-60a0-4a4f-993c-f4e37743c741"
      },
      "execution_count": 41,
      "outputs": [
        {
          "output_type": "error",
          "ename": "TypeError",
          "evalue": "'Column' object is not callable",
          "traceback": [
            "\u001b[0;31m---------------------------------------------------------------------------\u001b[0m",
            "\u001b[0;31mTypeError\u001b[0m                                 Traceback (most recent call last)",
            "\u001b[0;32m<ipython-input-41-32f96aae294f>\u001b[0m in \u001b[0;36m<cell line: 1>\u001b[0;34m()\u001b[0m\n\u001b[0;32m----> 1\u001b[0;31m \u001b[0mdata\u001b[0m\u001b[0;34m.\u001b[0m\u001b[0mGender\u001b[0m\u001b[0;34m.\u001b[0m\u001b[0mshow\u001b[0m\u001b[0;34m(\u001b[0m\u001b[0;34m)\u001b[0m\u001b[0;34m\u001b[0m\u001b[0;34m\u001b[0m\u001b[0m\n\u001b[0m",
            "\u001b[0;31mTypeError\u001b[0m: 'Column' object is not callable"
          ]
        }
      ]
    },
    {
      "cell_type": "code",
      "source": [
        "data.select('Gender')"
      ],
      "metadata": {
        "colab": {
          "base_uri": "https://localhost:8080/"
        },
        "id": "ji6kTCGhs5Sn",
        "outputId": "e79a392b-89d4-44db-d80e-e787714ac3d4"
      },
      "execution_count": 42,
      "outputs": [
        {
          "output_type": "execute_result",
          "data": {
            "text/plain": [
              "DataFrame[Gender: string]"
            ]
          },
          "metadata": {},
          "execution_count": 42
        }
      ]
    },
    {
      "cell_type": "code",
      "source": [
        "data.select('Gender').show()"
      ],
      "metadata": {
        "colab": {
          "base_uri": "https://localhost:8080/"
        },
        "id": "A3IfDUrStFAd",
        "outputId": "662984d4-d594-4210-e2d4-8a75f7adef33"
      },
      "execution_count": 43,
      "outputs": [
        {
          "output_type": "stream",
          "name": "stdout",
          "text": [
            "+------+\n",
            "|Gender|\n",
            "+------+\n",
            "|  Male|\n",
            "|  Male|\n",
            "|Female|\n",
            "|Female|\n",
            "|Female|\n",
            "|Female|\n",
            "|Female|\n",
            "|Female|\n",
            "|  Male|\n",
            "|Female|\n",
            "|  Male|\n",
            "|Female|\n",
            "|Female|\n",
            "|Female|\n",
            "|  Male|\n",
            "|  Male|\n",
            "|Female|\n",
            "|  Male|\n",
            "|  Male|\n",
            "|Female|\n",
            "+------+\n",
            "only showing top 20 rows\n",
            "\n"
          ]
        }
      ]
    },
    {
      "cell_type": "code",
      "source": [
        "# Multiple columns\n",
        "\n",
        "data.select(\"CustomerID\",\"Gender\",\"Age\").show(5)"
      ],
      "metadata": {
        "colab": {
          "base_uri": "https://localhost:8080/"
        },
        "id": "EEyxjSXptLC4",
        "outputId": "02a3dd2c-7152-4195-bc4f-3f69dd29b25f"
      },
      "execution_count": 46,
      "outputs": [
        {
          "output_type": "stream",
          "name": "stdout",
          "text": [
            "+----------+------+---+\n",
            "|CustomerID|Gender|Age|\n",
            "+----------+------+---+\n",
            "|         1|  Male| 19|\n",
            "|         2|  Male| 21|\n",
            "|         3|Female| 20|\n",
            "|         4|Female| 23|\n",
            "|         5|Female| 31|\n",
            "+----------+------+---+\n",
            "only showing top 5 rows\n",
            "\n"
          ]
        }
      ]
    },
    {
      "cell_type": "markdown",
      "source": [
        "### Row\n",
        "\n",
        "There is no way like Pandas .loc or .iloc to access row in pySpark. We can use filter (similar to where in SQL)"
      ],
      "metadata": {
        "id": "wgDNb91tumSt"
      }
    },
    {
      "cell_type": "code",
      "source": [
        "data.filter(data._c0 == 1).show()"
      ],
      "metadata": {
        "colab": {
          "base_uri": "https://localhost:8080/"
        },
        "id": "VbL_PiSSvtIQ",
        "outputId": "9e6cfedc-d9e9-4de5-c9b0-1dc90ff3b62b"
      },
      "execution_count": 52,
      "outputs": [
        {
          "output_type": "stream",
          "name": "stdout",
          "text": [
            "+---+----------+------+---+------------------+----------------------+-----+\n",
            "|_c0|CustomerID|Gender|Age|Annual Income (k$)|Spending Score (1-100)|Label|\n",
            "+---+----------+------+---+------------------+----------------------+-----+\n",
            "|  1|         2|  Male| 21|                15|                    81|    4|\n",
            "+---+----------+------+---+------------------+----------------------+-----+\n",
            "\n"
          ]
        }
      ]
    },
    {
      "cell_type": "markdown",
      "source": [
        "or"
      ],
      "metadata": {
        "id": "Dgth3-mqwLcB"
      }
    },
    {
      "cell_type": "code",
      "source": [
        "data.filter(\"_c0 == 10\").show()"
      ],
      "metadata": {
        "colab": {
          "base_uri": "https://localhost:8080/"
        },
        "id": "dpKf4sEGwL7Q",
        "outputId": "4cff416d-3b69-4890-e7c6-d21466b9ff85"
      },
      "execution_count": 53,
      "outputs": [
        {
          "output_type": "stream",
          "name": "stdout",
          "text": [
            "+---+----------+------+---+------------------+----------------------+-----+\n",
            "|_c0|CustomerID|Gender|Age|Annual Income (k$)|Spending Score (1-100)|Label|\n",
            "+---+----------+------+---+------------------+----------------------+-----+\n",
            "| 10|        11|  Male| 67|                19|                    14|    0|\n",
            "+---+----------+------+---+------------------+----------------------+-----+\n",
            "\n"
          ]
        }
      ]
    },
    {
      "cell_type": "markdown",
      "source": [
        "## Grouping Data"
      ],
      "metadata": {
        "id": "P0AQmv87xE7C"
      }
    },
    {
      "cell_type": "markdown",
      "source": [
        "Grouping and then applying the avg() function to the resulting groups."
      ],
      "metadata": {
        "id": "_q09z004xPaB"
      }
    },
    {
      "cell_type": "code",
      "source": [
        "data.groupby('Gender').avg().show()"
      ],
      "metadata": {
        "colab": {
          "base_uri": "https://localhost:8080/"
        },
        "id": "RkRaP2QsxKfJ",
        "outputId": "4707663e-a8cf-4f8a-c04f-b9e05e492e92"
      },
      "execution_count": 59,
      "outputs": [
        {
          "output_type": "stream",
          "name": "stdout",
          "text": [
            "+------+------------------+------------------+------------------+-----------------------+---------------------------+------------------+\n",
            "|Gender|          avg(_c0)|   avg(CustomerID)|          avg(Age)|avg(Annual Income (k$))|avg(Spending Score (1-100))|        avg(Label)|\n",
            "+------+------------------+------------------+------------------+-----------------------+---------------------------+------------------+\n",
            "|Female|           96.5625|           97.5625|38.098214285714285|                  59.25|         51.526785714285715| 2.205357142857143|\n",
            "|  Male|103.23863636363636|104.23863636363636| 39.80681818181818|      62.22727272727273|          48.51136363636363|2.1704545454545454|\n",
            "+------+------------------+------------------+------------------+-----------------------+---------------------------+------------------+\n",
            "\n"
          ]
        }
      ]
    },
    {
      "cell_type": "markdown",
      "source": [
        "**Specific averaging a certain column**"
      ],
      "metadata": {
        "id": "4L0WBYi3xtb9"
      }
    },
    {
      "cell_type": "code",
      "source": [
        "data.groupby('Gender').avg(\"Age\").show()"
      ],
      "metadata": {
        "colab": {
          "base_uri": "https://localhost:8080/"
        },
        "id": "I01rImh6xxmx",
        "outputId": "a5530554-d30b-48ac-8566-a64b672e5b76"
      },
      "execution_count": 60,
      "outputs": [
        {
          "output_type": "stream",
          "name": "stdout",
          "text": [
            "+------+------------------+\n",
            "|Gender|          avg(Age)|\n",
            "+------+------------------+\n",
            "|Female|38.098214285714285|\n",
            "|  Male| 39.80681818181818|\n",
            "+------+------------------+\n",
            "\n"
          ]
        }
      ]
    },
    {
      "cell_type": "markdown",
      "source": [
        "**Group by Multiple Columns**"
      ],
      "metadata": {
        "id": "blFddFFHyHUX"
      }
    },
    {
      "cell_type": "code",
      "source": [
        "dat = [\n",
        "    (1, \"Alice\", \"HR\", 50000),\n",
        "    (2, \"Bob\", \"Finance\", 60000),\n",
        "    (3, \"Cathy\", \"HR\", 70000),\n",
        "    (4, \"David\", \"Finance\", 80000),\n",
        "    (5, \"Eve\", \"IT\", 75000),\n",
        "    (6, \"Frank\", \"IT\", 65000),\n",
        "    (7, \"Grace\", \"HR\", 60000)\n",
        "]\n",
        "schema = [\"ID\", \"Name\", \"Department\", \"Salary\"]\n",
        "df = spark.createDataFrame(dat, schema)\n",
        "\n",
        "\n",
        "df.groupBy(\"Department\", \"Name\").sum(\"Salary\").show()"
      ],
      "metadata": {
        "colab": {
          "base_uri": "https://localhost:8080/"
        },
        "id": "v16FQQ3FyNT1",
        "outputId": "0ccf838e-7d68-48b9-9cea-1b652b160916"
      },
      "execution_count": 62,
      "outputs": [
        {
          "output_type": "stream",
          "name": "stdout",
          "text": [
            "+----------+-----+-----------+\n",
            "|Department| Name|sum(Salary)|\n",
            "+----------+-----+-----------+\n",
            "|        HR|Cathy|      70000|\n",
            "|        HR|Alice|      50000|\n",
            "|   Finance|  Bob|      60000|\n",
            "|        IT|Frank|      65000|\n",
            "|        IT|  Eve|      75000|\n",
            "|   Finance|David|      80000|\n",
            "|        HR|Grace|      60000|\n",
            "+----------+-----+-----------+\n",
            "\n"
          ]
        }
      ]
    },
    {
      "cell_type": "markdown",
      "source": [
        "**Aggregate Multiple Metrics**"
      ],
      "metadata": {
        "id": "6zyFxhvhyZ5I"
      }
    },
    {
      "cell_type": "code",
      "source": [
        "from pyspark.sql.functions import avg, max, min\n",
        "\n",
        "# Group by Department and calculate average, maximum, and minimum salary\n",
        "df_aggregated = df.groupBy(\"Department\").agg(\n",
        "    avg(\"Salary\").alias(\"Average Salary\"),\n",
        "    max(\"Salary\").alias(\"Maximum Salary\"),\n",
        "    min(\"Salary\").alias(\"Minimum Salary\")\n",
        ")\n",
        "\n",
        "df_aggregated.show()"
      ],
      "metadata": {
        "colab": {
          "base_uri": "https://localhost:8080/"
        },
        "id": "9e0ICyHMycIf",
        "outputId": "a9621eff-7874-4a44-da94-5cdb572d7dcc"
      },
      "execution_count": 64,
      "outputs": [
        {
          "output_type": "stream",
          "name": "stdout",
          "text": [
            "+----------+--------------+--------------+--------------+\n",
            "|Department|Average Salary|Maximum Salary|Minimum Salary|\n",
            "+----------+--------------+--------------+--------------+\n",
            "|        HR|       60000.0|         70000|         50000|\n",
            "|   Finance|       70000.0|         80000|         60000|\n",
            "|        IT|       70000.0|         75000|         65000|\n",
            "+----------+--------------+--------------+--------------+\n",
            "\n"
          ]
        }
      ]
    },
    {
      "cell_type": "markdown",
      "source": [
        "## Ordering Data"
      ],
      "metadata": {
        "id": "EzSJQhx1ymRt"
      }
    },
    {
      "cell_type": "code",
      "source": [
        "df.orderBy(\"Salary\").show(10) #ascending order by default"
      ],
      "metadata": {
        "colab": {
          "base_uri": "https://localhost:8080/"
        },
        "id": "hfZ6MFx1yops",
        "outputId": "295434f2-ae10-4820-a7c8-a340d0ffeb33"
      },
      "execution_count": 66,
      "outputs": [
        {
          "output_type": "stream",
          "name": "stdout",
          "text": [
            "+---+-----+----------+------+\n",
            "| ID| Name|Department|Salary|\n",
            "+---+-----+----------+------+\n",
            "|  1|Alice|        HR| 50000|\n",
            "|  7|Grace|        HR| 60000|\n",
            "|  2|  Bob|   Finance| 60000|\n",
            "|  6|Frank|        IT| 65000|\n",
            "|  3|Cathy|        HR| 70000|\n",
            "|  5|  Eve|        IT| 75000|\n",
            "|  4|David|   Finance| 80000|\n",
            "+---+-----+----------+------+\n",
            "\n"
          ]
        }
      ]
    },
    {
      "cell_type": "markdown",
      "source": [
        "**Ascending and Descending**"
      ],
      "metadata": {
        "id": "ewK2cWB0zNtV"
      }
    },
    {
      "cell_type": "code",
      "source": [
        "#Ascending\n",
        "df.orderBy(df.Salary.asc()).show(10)"
      ],
      "metadata": {
        "colab": {
          "base_uri": "https://localhost:8080/"
        },
        "id": "KscOKFa-zVOd",
        "outputId": "6f19ee53-fbce-42d7-baa5-8ff284c49500"
      },
      "execution_count": 67,
      "outputs": [
        {
          "output_type": "stream",
          "name": "stdout",
          "text": [
            "+---+-----+----------+------+\n",
            "| ID| Name|Department|Salary|\n",
            "+---+-----+----------+------+\n",
            "|  1|Alice|        HR| 50000|\n",
            "|  7|Grace|        HR| 60000|\n",
            "|  2|  Bob|   Finance| 60000|\n",
            "|  6|Frank|        IT| 65000|\n",
            "|  3|Cathy|        HR| 70000|\n",
            "|  5|  Eve|        IT| 75000|\n",
            "|  4|David|   Finance| 80000|\n",
            "+---+-----+----------+------+\n",
            "\n"
          ]
        }
      ]
    },
    {
      "cell_type": "code",
      "source": [
        "#Descending\n",
        "df.orderBy(df.Salary.desc()).show(10)"
      ],
      "metadata": {
        "colab": {
          "base_uri": "https://localhost:8080/"
        },
        "id": "v1O5dzskzb9o",
        "outputId": "825f9095-e0b2-400e-d741-68ef4ce4c1bc"
      },
      "execution_count": 68,
      "outputs": [
        {
          "output_type": "stream",
          "name": "stdout",
          "text": [
            "+---+-----+----------+------+\n",
            "| ID| Name|Department|Salary|\n",
            "+---+-----+----------+------+\n",
            "|  4|David|   Finance| 80000|\n",
            "|  5|  Eve|        IT| 75000|\n",
            "|  3|Cathy|        HR| 70000|\n",
            "|  6|Frank|        IT| 65000|\n",
            "|  2|  Bob|   Finance| 60000|\n",
            "|  7|Grace|        HR| 60000|\n",
            "|  1|Alice|        HR| 50000|\n",
            "+---+-----+----------+------+\n",
            "\n"
          ]
        }
      ]
    },
    {
      "cell_type": "markdown",
      "source": [
        "# Data Transformation using PySpark"
      ],
      "metadata": {
        "id": "USCUqxjkzz4-"
      }
    },
    {
      "cell_type": "markdown",
      "source": [
        "### Adding a new column"
      ],
      "metadata": {
        "id": "crRzzwU8wa6M"
      }
    },
    {
      "cell_type": "code",
      "source": [
        "data.withColumn(\"Age_plus_10\", data.Age + 10).show(5)"
      ],
      "metadata": {
        "colab": {
          "base_uri": "https://localhost:8080/"
        },
        "id": "bgYHtnmawiyW",
        "outputId": "c4758675-0d70-48ad-c5df-fbf23f4b7ca8"
      },
      "execution_count": 54,
      "outputs": [
        {
          "output_type": "stream",
          "name": "stdout",
          "text": [
            "+---+----------+------+---+------------------+----------------------+-----+-----------+\n",
            "|_c0|CustomerID|Gender|Age|Annual Income (k$)|Spending Score (1-100)|Label|Age_plus_10|\n",
            "+---+----------+------+---+------------------+----------------------+-----+-----------+\n",
            "|  0|         1|  Male| 19|                15|                    39|    0|         29|\n",
            "|  1|         2|  Male| 21|                15|                    81|    4|         31|\n",
            "|  2|         3|Female| 20|                16|                     6|    0|         30|\n",
            "|  3|         4|Female| 23|                16|                    77|    4|         33|\n",
            "|  4|         5|Female| 31|                17|                    40|    0|         41|\n",
            "+---+----------+------+---+------------------+----------------------+-----+-----------+\n",
            "only showing top 5 rows\n",
            "\n"
          ]
        }
      ]
    },
    {
      "cell_type": "code",
      "source": [
        "data.show(5) #The new column didn't inplace"
      ],
      "metadata": {
        "colab": {
          "base_uri": "https://localhost:8080/"
        },
        "id": "V_CGVKIHwpGo",
        "outputId": "b722af7c-819f-4f3d-b47b-577e7630923d"
      },
      "execution_count": 56,
      "outputs": [
        {
          "output_type": "stream",
          "name": "stdout",
          "text": [
            "+---+----------+------+---+------------------+----------------------+-----+\n",
            "|_c0|CustomerID|Gender|Age|Annual Income (k$)|Spending Score (1-100)|Label|\n",
            "+---+----------+------+---+------------------+----------------------+-----+\n",
            "|  0|         1|  Male| 19|                15|                    39|    0|\n",
            "|  1|         2|  Male| 21|                15|                    81|    4|\n",
            "|  2|         3|Female| 20|                16|                     6|    0|\n",
            "|  3|         4|Female| 23|                16|                    77|    4|\n",
            "|  4|         5|Female| 31|                17|                    40|    0|\n",
            "+---+----------+------+---+------------------+----------------------+-----+\n",
            "only showing top 5 rows\n",
            "\n"
          ]
        }
      ]
    },
    {
      "cell_type": "code",
      "source": [
        "data_new = data.withColumn(\"Age_plus_10\", data.Age + 10)\n",
        "data_new.show(5)"
      ],
      "metadata": {
        "colab": {
          "base_uri": "https://localhost:8080/"
        },
        "id": "x0BT8nwDwvob",
        "outputId": "89b2955f-0e81-47fa-88ff-d1f5a2a88b3e"
      },
      "execution_count": 57,
      "outputs": [
        {
          "output_type": "stream",
          "name": "stdout",
          "text": [
            "+---+----------+------+---+------------------+----------------------+-----+-----------+\n",
            "|_c0|CustomerID|Gender|Age|Annual Income (k$)|Spending Score (1-100)|Label|Age_plus_10|\n",
            "+---+----------+------+---+------------------+----------------------+-----+-----------+\n",
            "|  0|         1|  Male| 19|                15|                    39|    0|         29|\n",
            "|  1|         2|  Male| 21|                15|                    81|    4|         31|\n",
            "|  2|         3|Female| 20|                16|                     6|    0|         30|\n",
            "|  3|         4|Female| 23|                16|                    77|    4|         33|\n",
            "|  4|         5|Female| 31|                17|                    40|    0|         41|\n",
            "+---+----------+------+---+------------------+----------------------+-----+-----------+\n",
            "only showing top 5 rows\n",
            "\n"
          ]
        }
      ]
    },
    {
      "cell_type": "markdown",
      "source": [
        "## Drop Column"
      ],
      "metadata": {
        "id": "4wycDYP7z2fV"
      }
    },
    {
      "cell_type": "markdown",
      "source": [
        "**Single Column**"
      ],
      "metadata": {
        "id": "-i59KYFd0n2c"
      }
    },
    {
      "cell_type": "code",
      "source": [
        "# Drop the \"Age_plus_10\" column\n",
        "data_dropped = data.drop(\"Age_plus_10\")\n",
        "\n",
        "data_dropped.show()\n"
      ],
      "metadata": {
        "colab": {
          "base_uri": "https://localhost:8080/"
        },
        "id": "zu3VtNTZ0qOQ",
        "outputId": "ec489f48-2f10-460d-c0fd-4c0f7332c4d7"
      },
      "execution_count": 70,
      "outputs": [
        {
          "output_type": "stream",
          "name": "stdout",
          "text": [
            "+---+----------+------+---+------------------+----------------------+-----+\n",
            "|_c0|CustomerID|Gender|Age|Annual Income (k$)|Spending Score (1-100)|Label|\n",
            "+---+----------+------+---+------------------+----------------------+-----+\n",
            "|  0|         1|  Male| 19|                15|                    39|    0|\n",
            "|  1|         2|  Male| 21|                15|                    81|    4|\n",
            "|  2|         3|Female| 20|                16|                     6|    0|\n",
            "|  3|         4|Female| 23|                16|                    77|    4|\n",
            "|  4|         5|Female| 31|                17|                    40|    0|\n",
            "|  5|         6|Female| 22|                17|                    76|    4|\n",
            "|  6|         7|Female| 35|                18|                     6|    0|\n",
            "|  7|         8|Female| 23|                18|                    94|    4|\n",
            "|  8|         9|  Male| 64|                19|                     3|    0|\n",
            "|  9|        10|Female| 30|                19|                    72|    4|\n",
            "| 10|        11|  Male| 67|                19|                    14|    0|\n",
            "| 11|        12|Female| 35|                19|                    99|    4|\n",
            "| 12|        13|Female| 58|                20|                    15|    0|\n",
            "| 13|        14|Female| 24|                20|                    77|    4|\n",
            "| 14|        15|  Male| 37|                20|                    13|    0|\n",
            "| 15|        16|  Male| 22|                20|                    79|    4|\n",
            "| 16|        17|Female| 35|                21|                    35|    0|\n",
            "| 17|        18|  Male| 20|                21|                    66|    4|\n",
            "| 18|        19|  Male| 52|                23|                    29|    0|\n",
            "| 19|        20|Female| 35|                23|                    98|    4|\n",
            "+---+----------+------+---+------------------+----------------------+-----+\n",
            "only showing top 20 rows\n",
            "\n"
          ]
        }
      ]
    },
    {
      "cell_type": "code",
      "source": [
        "datamulti_dropped = data.drop(\"Annual Income (k$)\",\"Age_plus_10\")\n",
        "\n",
        "datamulti_dropped.show()"
      ],
      "metadata": {
        "colab": {
          "base_uri": "https://localhost:8080/"
        },
        "id": "m57aGJOS03Bc",
        "outputId": "786c1882-080f-4484-f913-22fb088949fe"
      },
      "execution_count": 71,
      "outputs": [
        {
          "output_type": "stream",
          "name": "stdout",
          "text": [
            "+---+----------+------+---+----------------------+-----+\n",
            "|_c0|CustomerID|Gender|Age|Spending Score (1-100)|Label|\n",
            "+---+----------+------+---+----------------------+-----+\n",
            "|  0|         1|  Male| 19|                    39|    0|\n",
            "|  1|         2|  Male| 21|                    81|    4|\n",
            "|  2|         3|Female| 20|                     6|    0|\n",
            "|  3|         4|Female| 23|                    77|    4|\n",
            "|  4|         5|Female| 31|                    40|    0|\n",
            "|  5|         6|Female| 22|                    76|    4|\n",
            "|  6|         7|Female| 35|                     6|    0|\n",
            "|  7|         8|Female| 23|                    94|    4|\n",
            "|  8|         9|  Male| 64|                     3|    0|\n",
            "|  9|        10|Female| 30|                    72|    4|\n",
            "| 10|        11|  Male| 67|                    14|    0|\n",
            "| 11|        12|Female| 35|                    99|    4|\n",
            "| 12|        13|Female| 58|                    15|    0|\n",
            "| 13|        14|Female| 24|                    77|    4|\n",
            "| 14|        15|  Male| 37|                    13|    0|\n",
            "| 15|        16|  Male| 22|                    79|    4|\n",
            "| 16|        17|Female| 35|                    35|    0|\n",
            "| 17|        18|  Male| 20|                    66|    4|\n",
            "| 18|        19|  Male| 52|                    29|    0|\n",
            "| 19|        20|Female| 35|                    98|    4|\n",
            "+---+----------+------+---+----------------------+-----+\n",
            "only showing top 20 rows\n",
            "\n"
          ]
        }
      ]
    },
    {
      "cell_type": "markdown",
      "source": [
        "## Rename Column"
      ],
      "metadata": {
        "id": "1gE_XJii1OOX"
      }
    },
    {
      "cell_type": "code",
      "source": [
        "data_colrenamed = data.withColumnRenamed(\"Annual Income (k$)\", \"Annual_Income\")\n",
        "data_colrenamed.show(5)"
      ],
      "metadata": {
        "colab": {
          "base_uri": "https://localhost:8080/"
        },
        "id": "BT3_Qs6H1Ple",
        "outputId": "3c25ed8c-ea71-498e-e4f0-14d0fd71a692"
      },
      "execution_count": 74,
      "outputs": [
        {
          "output_type": "stream",
          "name": "stdout",
          "text": [
            "+---+----------+------+---+-------------+----------------------+-----+\n",
            "|_c0|CustomerID|Gender|Age|Annual_Income|Spending Score (1-100)|Label|\n",
            "+---+----------+------+---+-------------+----------------------+-----+\n",
            "|  0|         1|  Male| 19|           15|                    39|    0|\n",
            "|  1|         2|  Male| 21|           15|                    81|    4|\n",
            "|  2|         3|Female| 20|           16|                     6|    0|\n",
            "|  3|         4|Female| 23|           16|                    77|    4|\n",
            "|  4|         5|Female| 31|           17|                    40|    0|\n",
            "+---+----------+------+---+-------------+----------------------+-----+\n",
            "only showing top 5 rows\n",
            "\n"
          ]
        }
      ]
    },
    {
      "cell_type": "markdown",
      "source": [
        "## Handling Missing Values"
      ],
      "metadata": {
        "id": "usfG2A0z1q0q"
      }
    },
    {
      "cell_type": "code",
      "source": [
        "from pyspark.sql.types import StructType, StructField, StringType, IntegerType, FloatType\n",
        "\n",
        "# Define schema\n",
        "schema = StructType([\n",
        "    StructField(\"ID\", IntegerType(), True),\n",
        "    StructField(\"Name\", StringType(), True),\n",
        "    StructField(\"Age\", IntegerType(), True),\n",
        "    StructField(\"Salary\", FloatType(), True)\n",
        "])\n",
        "\n",
        "# Create sample data with missing values and duplicates\n",
        "dat1 = [\n",
        "    (1, \"Alice\", 25, 50000.0),\n",
        "    (2, \"Bob\", None, 60000.0),\n",
        "    (3, \"Cathy\", 28, None),\n",
        "    (4, None, 30, 70000.0),\n",
        "    (5, \"Eve\", 35, 80000.0),\n",
        "    (5, \"Eve\", 35, 80000.0),\n",
        "    (6, \"Frank\", None, None),\n",
        "    (6, \"Frank\", None, None)\n",
        "]\n",
        "\n",
        "# Create DataFrame\n",
        "df1 = spark.createDataFrame(dat1, schema)\n",
        "\n",
        "# Show initial DataFrame\n",
        "print(\"Initial DataFrame:\")\n",
        "df1.show()"
      ],
      "metadata": {
        "colab": {
          "base_uri": "https://localhost:8080/"
        },
        "id": "MZXQhk5611lR",
        "outputId": "446fc282-de9f-4f29-d303-273c396421bb"
      },
      "execution_count": 75,
      "outputs": [
        {
          "output_type": "stream",
          "name": "stdout",
          "text": [
            "Initial DataFrame:\n",
            "+---+-----+----+-------+\n",
            "| ID| Name| Age| Salary|\n",
            "+---+-----+----+-------+\n",
            "|  1|Alice|  25|50000.0|\n",
            "|  2|  Bob|NULL|60000.0|\n",
            "|  3|Cathy|  28|   NULL|\n",
            "|  4| NULL|  30|70000.0|\n",
            "|  5|  Eve|  35|80000.0|\n",
            "|  5|  Eve|  35|80000.0|\n",
            "|  6|Frank|NULL|   NULL|\n",
            "|  6|Frank|NULL|   NULL|\n",
            "+---+-----+----+-------+\n",
            "\n"
          ]
        }
      ]
    },
    {
      "cell_type": "markdown",
      "source": [
        "**Drop rows with missing values**"
      ],
      "metadata": {
        "id": "rDrC0FyS2QHd"
      }
    },
    {
      "cell_type": "code",
      "source": [
        "df1_dropped = df1.na.drop()\n",
        "print(\"After Dropping Rows with Missing Values:\")\n",
        "df1_dropped.show()"
      ],
      "metadata": {
        "colab": {
          "base_uri": "https://localhost:8080/"
        },
        "id": "GSIQBG3U2VH6",
        "outputId": "86866a40-4310-4369-b94f-a326e0eca37a"
      },
      "execution_count": 80,
      "outputs": [
        {
          "output_type": "stream",
          "name": "stdout",
          "text": [
            "After Dropping Rows with Missing Values:\n",
            "+---+-----+---+-------+\n",
            "| ID| Name|Age| Salary|\n",
            "+---+-----+---+-------+\n",
            "|  1|Alice| 25|50000.0|\n",
            "|  5|  Eve| 35|80000.0|\n",
            "|  5|  Eve| 35|80000.0|\n",
            "+---+-----+---+-------+\n",
            "\n"
          ]
        }
      ]
    },
    {
      "cell_type": "markdown",
      "source": [
        "**Fill missing values**"
      ],
      "metadata": {
        "id": "65kjKclO2aHd"
      }
    },
    {
      "cell_type": "code",
      "source": [
        "df1_filled = df1.na.fill({\"Age\": 0, \"Salary\": 0.0, \"Name\": \"Unknown\"})\n",
        "print(\"After Filling Missing Values:\")\n",
        "df1_filled.show()"
      ],
      "metadata": {
        "colab": {
          "base_uri": "https://localhost:8080/"
        },
        "id": "PYgEfwm-2cI9",
        "outputId": "4aeffbe9-ccd6-434a-9a3e-fa3ce4575d01"
      },
      "execution_count": 79,
      "outputs": [
        {
          "output_type": "stream",
          "name": "stdout",
          "text": [
            "After Filling Missing Values:\n",
            "+---+-------+---+-------+\n",
            "| ID|   Name|Age| Salary|\n",
            "+---+-------+---+-------+\n",
            "|  1|  Alice| 25|50000.0|\n",
            "|  2|    Bob|  0|60000.0|\n",
            "|  3|  Cathy| 28|    0.0|\n",
            "|  4|Unknown| 30|70000.0|\n",
            "|  5|    Eve| 35|80000.0|\n",
            "|  5|    Eve| 35|80000.0|\n",
            "|  6|  Frank|  0|    0.0|\n",
            "|  6|  Frank|  0|    0.0|\n",
            "+---+-------+---+-------+\n",
            "\n"
          ]
        }
      ]
    },
    {
      "cell_type": "markdown",
      "source": [
        "**Drop rows with missing values in specific columns**"
      ],
      "metadata": {
        "id": "UkNP95Pn2rmS"
      }
    },
    {
      "cell_type": "code",
      "source": [
        "df1_dropped_subset = df1.na.drop(subset=[\"Age\", \"Salary\"])\n",
        "print(\"After Dropping Rows with Missing Values in Age and Salary Columns:\")\n",
        "df1_dropped_subset.show()"
      ],
      "metadata": {
        "colab": {
          "base_uri": "https://localhost:8080/"
        },
        "id": "iHRAsbLO2vjI",
        "outputId": "6899b6e5-0886-410b-c8d0-048673b2847c"
      },
      "execution_count": 82,
      "outputs": [
        {
          "output_type": "stream",
          "name": "stdout",
          "text": [
            "After Dropping Rows with Missing Values in Age and Salary Columns:\n",
            "+---+-----+---+-------+\n",
            "| ID| Name|Age| Salary|\n",
            "+---+-----+---+-------+\n",
            "|  1|Alice| 25|50000.0|\n",
            "|  4| NULL| 30|70000.0|\n",
            "|  5|  Eve| 35|80000.0|\n",
            "|  5|  Eve| 35|80000.0|\n",
            "+---+-----+---+-------+\n",
            "\n"
          ]
        }
      ]
    },
    {
      "cell_type": "markdown",
      "source": [
        "##Handling Duplicate Rows"
      ],
      "metadata": {
        "id": "JwTznifJ22hy"
      }
    },
    {
      "cell_type": "code",
      "source": [
        "df1.show()"
      ],
      "metadata": {
        "colab": {
          "base_uri": "https://localhost:8080/"
        },
        "id": "SusFdj-X3FBq",
        "outputId": "6d06a3f3-d48e-4054-9b03-7161ceb9f232"
      },
      "execution_count": 83,
      "outputs": [
        {
          "output_type": "stream",
          "name": "stdout",
          "text": [
            "+---+-----+----+-------+\n",
            "| ID| Name| Age| Salary|\n",
            "+---+-----+----+-------+\n",
            "|  1|Alice|  25|50000.0|\n",
            "|  2|  Bob|NULL|60000.0|\n",
            "|  3|Cathy|  28|   NULL|\n",
            "|  4| NULL|  30|70000.0|\n",
            "|  5|  Eve|  35|80000.0|\n",
            "|  5|  Eve|  35|80000.0|\n",
            "|  6|Frank|NULL|   NULL|\n",
            "|  6|Frank|NULL|   NULL|\n",
            "+---+-----+----+-------+\n",
            "\n"
          ]
        }
      ]
    },
    {
      "cell_type": "markdown",
      "source": [
        "**Drop duplicate rows**"
      ],
      "metadata": {
        "id": "u6-LFs5A2_wX"
      }
    },
    {
      "cell_type": "code",
      "source": [
        "df1_no_duplicates = df1.dropDuplicates()\n",
        "print(\"After Dropping Duplicate Rows:\")\n",
        "df1_no_duplicates.show()"
      ],
      "metadata": {
        "colab": {
          "base_uri": "https://localhost:8080/"
        },
        "id": "0r7OiP2c3JKG",
        "outputId": "85c519b4-3cc1-4331-86ad-3e66d9a8b375"
      },
      "execution_count": 84,
      "outputs": [
        {
          "output_type": "stream",
          "name": "stdout",
          "text": [
            "After Dropping Duplicate Rows:\n",
            "+---+-----+----+-------+\n",
            "| ID| Name| Age| Salary|\n",
            "+---+-----+----+-------+\n",
            "|  1|Alice|  25|50000.0|\n",
            "|  5|  Eve|  35|80000.0|\n",
            "|  2|  Bob|NULL|60000.0|\n",
            "|  3|Cathy|  28|   NULL|\n",
            "|  4| NULL|  30|70000.0|\n",
            "|  6|Frank|NULL|   NULL|\n",
            "+---+-----+----+-------+\n",
            "\n"
          ]
        }
      ]
    },
    {
      "cell_type": "markdown",
      "source": [
        "Drop duplicates based on specific columns:"
      ],
      "metadata": {
        "id": "8eBrajNs3OTa"
      }
    },
    {
      "cell_type": "code",
      "source": [
        "df1_no_duplicates_subset = df1.dropDuplicates([\"ID\", \"Name\"])\n",
        "print(\"After Dropping Duplicates Based on ID and Name:\")\n",
        "df1_no_duplicates_subset.show()"
      ],
      "metadata": {
        "colab": {
          "base_uri": "https://localhost:8080/"
        },
        "id": "2f-NjH3T3TE_",
        "outputId": "9a76d7c9-2b5b-4aae-804c-f163e4a48268"
      },
      "execution_count": 85,
      "outputs": [
        {
          "output_type": "stream",
          "name": "stdout",
          "text": [
            "After Dropping Duplicates Based on ID and Name:\n",
            "+---+-----+----+-------+\n",
            "| ID| Name| Age| Salary|\n",
            "+---+-----+----+-------+\n",
            "|  3|Cathy|  28|   NULL|\n",
            "|  2|  Bob|NULL|60000.0|\n",
            "|  1|Alice|  25|50000.0|\n",
            "|  4| NULL|  30|70000.0|\n",
            "|  5|  Eve|  35|80000.0|\n",
            "|  6|Frank|NULL|   NULL|\n",
            "+---+-----+----+-------+\n",
            "\n"
          ]
        }
      ]
    },
    {
      "cell_type": "markdown",
      "source": [
        "# Working with SQL\n",
        "\n",
        "DataFrame and Spark SQL share the same execution engine so they can be interchangeably used seamlessly. For example, you can register the DataFrame as a table and run a SQL easily as below:"
      ],
      "metadata": {
        "id": "l8ZFaowt3tx6"
      }
    },
    {
      "cell_type": "code",
      "source": [
        "data.show(5)"
      ],
      "metadata": {
        "colab": {
          "base_uri": "https://localhost:8080/"
        },
        "id": "1S1sM-K24GSR",
        "outputId": "ef6e2698-cf3d-4fca-90f8-949d3f96b875"
      },
      "execution_count": 86,
      "outputs": [
        {
          "output_type": "stream",
          "name": "stdout",
          "text": [
            "+---+----------+------+---+------------------+----------------------+-----+\n",
            "|_c0|CustomerID|Gender|Age|Annual Income (k$)|Spending Score (1-100)|Label|\n",
            "+---+----------+------+---+------------------+----------------------+-----+\n",
            "|  0|         1|  Male| 19|                15|                    39|    0|\n",
            "|  1|         2|  Male| 21|                15|                    81|    4|\n",
            "|  2|         3|Female| 20|                16|                     6|    0|\n",
            "|  3|         4|Female| 23|                16|                    77|    4|\n",
            "|  4|         5|Female| 31|                17|                    40|    0|\n",
            "+---+----------+------+---+------------------+----------------------+-----+\n",
            "only showing top 5 rows\n",
            "\n"
          ]
        }
      ]
    },
    {
      "cell_type": "code",
      "source": [
        "data.createOrReplaceTempView(\"customers\")\n",
        "spark.sql(\"SELECT count(*) from customers\").show()"
      ],
      "metadata": {
        "colab": {
          "base_uri": "https://localhost:8080/"
        },
        "id": "Ju9GJvnI4E-a",
        "outputId": "38915650-4f12-4a75-d64f-670069699128"
      },
      "execution_count": 88,
      "outputs": [
        {
          "output_type": "stream",
          "name": "stdout",
          "text": [
            "+--------+\n",
            "|count(1)|\n",
            "+--------+\n",
            "|     200|\n",
            "+--------+\n",
            "\n"
          ]
        }
      ]
    },
    {
      "cell_type": "code",
      "source": [
        "high_income = spark.sql('''Select * from customers\n",
        "              where `Annual Income (k$)` > 20\n",
        "''')\n",
        "\n",
        "high_income.show(5)"
      ],
      "metadata": {
        "colab": {
          "base_uri": "https://localhost:8080/"
        },
        "id": "1dsSdS3p4xct",
        "outputId": "dc89fce6-5585-4645-fbf5-4a36f07e721e"
      },
      "execution_count": 95,
      "outputs": [
        {
          "output_type": "stream",
          "name": "stdout",
          "text": [
            "+---+----------+------+---+------------------+----------------------+-----+\n",
            "|_c0|CustomerID|Gender|Age|Annual Income (k$)|Spending Score (1-100)|Label|\n",
            "+---+----------+------+---+------------------+----------------------+-----+\n",
            "| 16|        17|Female| 35|                21|                    35|    0|\n",
            "| 17|        18|  Male| 20|                21|                    66|    4|\n",
            "| 18|        19|  Male| 52|                23|                    29|    0|\n",
            "| 19|        20|Female| 35|                23|                    98|    4|\n",
            "| 20|        21|  Male| 35|                24|                    35|    0|\n",
            "+---+----------+------+---+------------------+----------------------+-----+\n",
            "only showing top 5 rows\n",
            "\n"
          ]
        }
      ]
    },
    {
      "cell_type": "markdown",
      "source": [
        "# Transforming Data into Another Format"
      ],
      "metadata": {
        "id": "nQiLHW-N3vJ5"
      }
    },
    {
      "cell_type": "markdown",
      "source": [
        "### To Pandas DataFrame\n",
        "\n",
        "PySpark DataFrame also provides the conversion back to a pandas DataFrame to leverage pandas APIs. Note that toPandas also collects all data into the driver side that can easily cause an out-of-memory-error when the data is too large to fit into the driver side."
      ],
      "metadata": {
        "id": "NZ4rSljC5AzX"
      }
    },
    {
      "cell_type": "code",
      "source": [
        "high_income.toPandas()"
      ],
      "metadata": {
        "colab": {
          "base_uri": "https://localhost:8080/",
          "height": 413
        },
        "id": "GoBTKott5Lyr",
        "outputId": "ac498f6e-1323-4b7f-f3fd-a76a06a0b40c"
      },
      "execution_count": 96,
      "outputs": [
        {
          "output_type": "execute_result",
          "data": {
            "text/plain": [
              "     _c0  CustomerID  Gender  Age  Annual Income (k$)  Spending Score (1-100)  \\\n",
              "0     16          17  Female   35                  21                      35   \n",
              "1     17          18    Male   20                  21                      66   \n",
              "2     18          19    Male   52                  23                      29   \n",
              "3     19          20  Female   35                  23                      98   \n",
              "4     20          21    Male   35                  24                      35   \n",
              "..   ...         ...     ...  ...                 ...                     ...   \n",
              "179  195         196  Female   35                 120                      79   \n",
              "180  196         197  Female   45                 126                      28   \n",
              "181  197         198    Male   32                 126                      74   \n",
              "182  198         199    Male   32                 137                      18   \n",
              "183  199         200    Male   30                 137                      83   \n",
              "\n",
              "     Label  \n",
              "0        0  \n",
              "1        4  \n",
              "2        0  \n",
              "3        4  \n",
              "4        0  \n",
              "..     ...  \n",
              "179      1  \n",
              "180      2  \n",
              "181      1  \n",
              "182      2  \n",
              "183      1  \n",
              "\n",
              "[184 rows x 7 columns]"
            ],
            "text/html": [
              "\n",
              "  <div id=\"df-f69e1947-1779-4057-bf03-5936f7207c3f\" class=\"colab-df-container\">\n",
              "    <div>\n",
              "<style scoped>\n",
              "    .dataframe tbody tr th:only-of-type {\n",
              "        vertical-align: middle;\n",
              "    }\n",
              "\n",
              "    .dataframe tbody tr th {\n",
              "        vertical-align: top;\n",
              "    }\n",
              "\n",
              "    .dataframe thead th {\n",
              "        text-align: right;\n",
              "    }\n",
              "</style>\n",
              "<table border=\"1\" class=\"dataframe\">\n",
              "  <thead>\n",
              "    <tr style=\"text-align: right;\">\n",
              "      <th></th>\n",
              "      <th>_c0</th>\n",
              "      <th>CustomerID</th>\n",
              "      <th>Gender</th>\n",
              "      <th>Age</th>\n",
              "      <th>Annual Income (k$)</th>\n",
              "      <th>Spending Score (1-100)</th>\n",
              "      <th>Label</th>\n",
              "    </tr>\n",
              "  </thead>\n",
              "  <tbody>\n",
              "    <tr>\n",
              "      <th>0</th>\n",
              "      <td>16</td>\n",
              "      <td>17</td>\n",
              "      <td>Female</td>\n",
              "      <td>35</td>\n",
              "      <td>21</td>\n",
              "      <td>35</td>\n",
              "      <td>0</td>\n",
              "    </tr>\n",
              "    <tr>\n",
              "      <th>1</th>\n",
              "      <td>17</td>\n",
              "      <td>18</td>\n",
              "      <td>Male</td>\n",
              "      <td>20</td>\n",
              "      <td>21</td>\n",
              "      <td>66</td>\n",
              "      <td>4</td>\n",
              "    </tr>\n",
              "    <tr>\n",
              "      <th>2</th>\n",
              "      <td>18</td>\n",
              "      <td>19</td>\n",
              "      <td>Male</td>\n",
              "      <td>52</td>\n",
              "      <td>23</td>\n",
              "      <td>29</td>\n",
              "      <td>0</td>\n",
              "    </tr>\n",
              "    <tr>\n",
              "      <th>3</th>\n",
              "      <td>19</td>\n",
              "      <td>20</td>\n",
              "      <td>Female</td>\n",
              "      <td>35</td>\n",
              "      <td>23</td>\n",
              "      <td>98</td>\n",
              "      <td>4</td>\n",
              "    </tr>\n",
              "    <tr>\n",
              "      <th>4</th>\n",
              "      <td>20</td>\n",
              "      <td>21</td>\n",
              "      <td>Male</td>\n",
              "      <td>35</td>\n",
              "      <td>24</td>\n",
              "      <td>35</td>\n",
              "      <td>0</td>\n",
              "    </tr>\n",
              "    <tr>\n",
              "      <th>...</th>\n",
              "      <td>...</td>\n",
              "      <td>...</td>\n",
              "      <td>...</td>\n",
              "      <td>...</td>\n",
              "      <td>...</td>\n",
              "      <td>...</td>\n",
              "      <td>...</td>\n",
              "    </tr>\n",
              "    <tr>\n",
              "      <th>179</th>\n",
              "      <td>195</td>\n",
              "      <td>196</td>\n",
              "      <td>Female</td>\n",
              "      <td>35</td>\n",
              "      <td>120</td>\n",
              "      <td>79</td>\n",
              "      <td>1</td>\n",
              "    </tr>\n",
              "    <tr>\n",
              "      <th>180</th>\n",
              "      <td>196</td>\n",
              "      <td>197</td>\n",
              "      <td>Female</td>\n",
              "      <td>45</td>\n",
              "      <td>126</td>\n",
              "      <td>28</td>\n",
              "      <td>2</td>\n",
              "    </tr>\n",
              "    <tr>\n",
              "      <th>181</th>\n",
              "      <td>197</td>\n",
              "      <td>198</td>\n",
              "      <td>Male</td>\n",
              "      <td>32</td>\n",
              "      <td>126</td>\n",
              "      <td>74</td>\n",
              "      <td>1</td>\n",
              "    </tr>\n",
              "    <tr>\n",
              "      <th>182</th>\n",
              "      <td>198</td>\n",
              "      <td>199</td>\n",
              "      <td>Male</td>\n",
              "      <td>32</td>\n",
              "      <td>137</td>\n",
              "      <td>18</td>\n",
              "      <td>2</td>\n",
              "    </tr>\n",
              "    <tr>\n",
              "      <th>183</th>\n",
              "      <td>199</td>\n",
              "      <td>200</td>\n",
              "      <td>Male</td>\n",
              "      <td>30</td>\n",
              "      <td>137</td>\n",
              "      <td>83</td>\n",
              "      <td>1</td>\n",
              "    </tr>\n",
              "  </tbody>\n",
              "</table>\n",
              "<p>184 rows × 7 columns</p>\n",
              "</div>\n",
              "    <div class=\"colab-df-buttons\">\n",
              "\n",
              "  <div class=\"colab-df-container\">\n",
              "    <button class=\"colab-df-convert\" onclick=\"convertToInteractive('df-f69e1947-1779-4057-bf03-5936f7207c3f')\"\n",
              "            title=\"Convert this dataframe to an interactive table.\"\n",
              "            style=\"display:none;\">\n",
              "\n",
              "  <svg xmlns=\"http://www.w3.org/2000/svg\" height=\"24px\" viewBox=\"0 -960 960 960\">\n",
              "    <path d=\"M120-120v-720h720v720H120Zm60-500h600v-160H180v160Zm220 220h160v-160H400v160Zm0 220h160v-160H400v160ZM180-400h160v-160H180v160Zm440 0h160v-160H620v160ZM180-180h160v-160H180v160Zm440 0h160v-160H620v160Z\"/>\n",
              "  </svg>\n",
              "    </button>\n",
              "\n",
              "  <style>\n",
              "    .colab-df-container {\n",
              "      display:flex;\n",
              "      gap: 12px;\n",
              "    }\n",
              "\n",
              "    .colab-df-convert {\n",
              "      background-color: #E8F0FE;\n",
              "      border: none;\n",
              "      border-radius: 50%;\n",
              "      cursor: pointer;\n",
              "      display: none;\n",
              "      fill: #1967D2;\n",
              "      height: 32px;\n",
              "      padding: 0 0 0 0;\n",
              "      width: 32px;\n",
              "    }\n",
              "\n",
              "    .colab-df-convert:hover {\n",
              "      background-color: #E2EBFA;\n",
              "      box-shadow: 0px 1px 2px rgba(60, 64, 67, 0.3), 0px 1px 3px 1px rgba(60, 64, 67, 0.15);\n",
              "      fill: #174EA6;\n",
              "    }\n",
              "\n",
              "    .colab-df-buttons div {\n",
              "      margin-bottom: 4px;\n",
              "    }\n",
              "\n",
              "    [theme=dark] .colab-df-convert {\n",
              "      background-color: #3B4455;\n",
              "      fill: #D2E3FC;\n",
              "    }\n",
              "\n",
              "    [theme=dark] .colab-df-convert:hover {\n",
              "      background-color: #434B5C;\n",
              "      box-shadow: 0px 1px 3px 1px rgba(0, 0, 0, 0.15);\n",
              "      filter: drop-shadow(0px 1px 2px rgba(0, 0, 0, 0.3));\n",
              "      fill: #FFFFFF;\n",
              "    }\n",
              "  </style>\n",
              "\n",
              "    <script>\n",
              "      const buttonEl =\n",
              "        document.querySelector('#df-f69e1947-1779-4057-bf03-5936f7207c3f button.colab-df-convert');\n",
              "      buttonEl.style.display =\n",
              "        google.colab.kernel.accessAllowed ? 'block' : 'none';\n",
              "\n",
              "      async function convertToInteractive(key) {\n",
              "        const element = document.querySelector('#df-f69e1947-1779-4057-bf03-5936f7207c3f');\n",
              "        const dataTable =\n",
              "          await google.colab.kernel.invokeFunction('convertToInteractive',\n",
              "                                                    [key], {});\n",
              "        if (!dataTable) return;\n",
              "\n",
              "        const docLinkHtml = 'Like what you see? Visit the ' +\n",
              "          '<a target=\"_blank\" href=https://colab.research.google.com/notebooks/data_table.ipynb>data table notebook</a>'\n",
              "          + ' to learn more about interactive tables.';\n",
              "        element.innerHTML = '';\n",
              "        dataTable['output_type'] = 'display_data';\n",
              "        await google.colab.output.renderOutput(dataTable, element);\n",
              "        const docLink = document.createElement('div');\n",
              "        docLink.innerHTML = docLinkHtml;\n",
              "        element.appendChild(docLink);\n",
              "      }\n",
              "    </script>\n",
              "  </div>\n",
              "\n",
              "\n",
              "<div id=\"df-44b3add3-7d8c-4097-a10f-645314536eba\">\n",
              "  <button class=\"colab-df-quickchart\" onclick=\"quickchart('df-44b3add3-7d8c-4097-a10f-645314536eba')\"\n",
              "            title=\"Suggest charts\"\n",
              "            style=\"display:none;\">\n",
              "\n",
              "<svg xmlns=\"http://www.w3.org/2000/svg\" height=\"24px\"viewBox=\"0 0 24 24\"\n",
              "     width=\"24px\">\n",
              "    <g>\n",
              "        <path d=\"M19 3H5c-1.1 0-2 .9-2 2v14c0 1.1.9 2 2 2h14c1.1 0 2-.9 2-2V5c0-1.1-.9-2-2-2zM9 17H7v-7h2v7zm4 0h-2V7h2v10zm4 0h-2v-4h2v4z\"/>\n",
              "    </g>\n",
              "</svg>\n",
              "  </button>\n",
              "\n",
              "<style>\n",
              "  .colab-df-quickchart {\n",
              "      --bg-color: #E8F0FE;\n",
              "      --fill-color: #1967D2;\n",
              "      --hover-bg-color: #E2EBFA;\n",
              "      --hover-fill-color: #174EA6;\n",
              "      --disabled-fill-color: #AAA;\n",
              "      --disabled-bg-color: #DDD;\n",
              "  }\n",
              "\n",
              "  [theme=dark] .colab-df-quickchart {\n",
              "      --bg-color: #3B4455;\n",
              "      --fill-color: #D2E3FC;\n",
              "      --hover-bg-color: #434B5C;\n",
              "      --hover-fill-color: #FFFFFF;\n",
              "      --disabled-bg-color: #3B4455;\n",
              "      --disabled-fill-color: #666;\n",
              "  }\n",
              "\n",
              "  .colab-df-quickchart {\n",
              "    background-color: var(--bg-color);\n",
              "    border: none;\n",
              "    border-radius: 50%;\n",
              "    cursor: pointer;\n",
              "    display: none;\n",
              "    fill: var(--fill-color);\n",
              "    height: 32px;\n",
              "    padding: 0;\n",
              "    width: 32px;\n",
              "  }\n",
              "\n",
              "  .colab-df-quickchart:hover {\n",
              "    background-color: var(--hover-bg-color);\n",
              "    box-shadow: 0 1px 2px rgba(60, 64, 67, 0.3), 0 1px 3px 1px rgba(60, 64, 67, 0.15);\n",
              "    fill: var(--button-hover-fill-color);\n",
              "  }\n",
              "\n",
              "  .colab-df-quickchart-complete:disabled,\n",
              "  .colab-df-quickchart-complete:disabled:hover {\n",
              "    background-color: var(--disabled-bg-color);\n",
              "    fill: var(--disabled-fill-color);\n",
              "    box-shadow: none;\n",
              "  }\n",
              "\n",
              "  .colab-df-spinner {\n",
              "    border: 2px solid var(--fill-color);\n",
              "    border-color: transparent;\n",
              "    border-bottom-color: var(--fill-color);\n",
              "    animation:\n",
              "      spin 1s steps(1) infinite;\n",
              "  }\n",
              "\n",
              "  @keyframes spin {\n",
              "    0% {\n",
              "      border-color: transparent;\n",
              "      border-bottom-color: var(--fill-color);\n",
              "      border-left-color: var(--fill-color);\n",
              "    }\n",
              "    20% {\n",
              "      border-color: transparent;\n",
              "      border-left-color: var(--fill-color);\n",
              "      border-top-color: var(--fill-color);\n",
              "    }\n",
              "    30% {\n",
              "      border-color: transparent;\n",
              "      border-left-color: var(--fill-color);\n",
              "      border-top-color: var(--fill-color);\n",
              "      border-right-color: var(--fill-color);\n",
              "    }\n",
              "    40% {\n",
              "      border-color: transparent;\n",
              "      border-right-color: var(--fill-color);\n",
              "      border-top-color: var(--fill-color);\n",
              "    }\n",
              "    60% {\n",
              "      border-color: transparent;\n",
              "      border-right-color: var(--fill-color);\n",
              "    }\n",
              "    80% {\n",
              "      border-color: transparent;\n",
              "      border-right-color: var(--fill-color);\n",
              "      border-bottom-color: var(--fill-color);\n",
              "    }\n",
              "    90% {\n",
              "      border-color: transparent;\n",
              "      border-bottom-color: var(--fill-color);\n",
              "    }\n",
              "  }\n",
              "</style>\n",
              "\n",
              "  <script>\n",
              "    async function quickchart(key) {\n",
              "      const quickchartButtonEl =\n",
              "        document.querySelector('#' + key + ' button');\n",
              "      quickchartButtonEl.disabled = true;  // To prevent multiple clicks.\n",
              "      quickchartButtonEl.classList.add('colab-df-spinner');\n",
              "      try {\n",
              "        const charts = await google.colab.kernel.invokeFunction(\n",
              "            'suggestCharts', [key], {});\n",
              "      } catch (error) {\n",
              "        console.error('Error during call to suggestCharts:', error);\n",
              "      }\n",
              "      quickchartButtonEl.classList.remove('colab-df-spinner');\n",
              "      quickchartButtonEl.classList.add('colab-df-quickchart-complete');\n",
              "    }\n",
              "    (() => {\n",
              "      let quickchartButtonEl =\n",
              "        document.querySelector('#df-44b3add3-7d8c-4097-a10f-645314536eba button');\n",
              "      quickchartButtonEl.style.display =\n",
              "        google.colab.kernel.accessAllowed ? 'block' : 'none';\n",
              "    })();\n",
              "  </script>\n",
              "</div>\n",
              "\n",
              "    </div>\n",
              "  </div>\n"
            ],
            "application/vnd.google.colaboratory.intrinsic+json": {
              "type": "dataframe",
              "summary": "{\n  \"name\": \"high_income\",\n  \"rows\": 184,\n  \"fields\": [\n    {\n      \"column\": \"_c0\",\n      \"properties\": {\n        \"dtype\": \"int32\",\n        \"num_unique_values\": 184,\n        \"samples\": [\n          35,\n          58,\n          172\n        ],\n        \"semantic_type\": \"\",\n        \"description\": \"\"\n      }\n    },\n    {\n      \"column\": \"CustomerID\",\n      \"properties\": {\n        \"dtype\": \"int32\",\n        \"num_unique_values\": 184,\n        \"samples\": [\n          36,\n          59,\n          173\n        ],\n        \"semantic_type\": \"\",\n        \"description\": \"\"\n      }\n    },\n    {\n      \"column\": \"Gender\",\n      \"properties\": {\n        \"dtype\": \"category\",\n        \"num_unique_values\": 2,\n        \"samples\": [\n          \"Male\",\n          \"Female\"\n        ],\n        \"semantic_type\": \"\",\n        \"description\": \"\"\n      }\n    },\n    {\n      \"column\": \"Age\",\n      \"properties\": {\n        \"dtype\": \"int32\",\n        \"num_unique_values\": 50,\n        \"samples\": [\n          53,\n          55\n        ],\n        \"semantic_type\": \"\",\n        \"description\": \"\"\n      }\n    },\n    {\n      \"column\": \"Annual Income (k$)\",\n      \"properties\": {\n        \"dtype\": \"int32\",\n        \"num_unique_values\": 58,\n        \"samples\": [\n          21,\n          29\n        ],\n        \"semantic_type\": \"\",\n        \"description\": \"\"\n      }\n    },\n    {\n      \"column\": \"Spending Score (1-100)\",\n      \"properties\": {\n        \"dtype\": \"int32\",\n        \"num_unique_values\": 80,\n        \"samples\": [\n          46,\n          35\n        ],\n        \"semantic_type\": \"\",\n        \"description\": \"\"\n      }\n    },\n    {\n      \"column\": \"Label\",\n      \"properties\": {\n        \"dtype\": \"int32\",\n        \"num_unique_values\": 5,\n        \"samples\": [\n          4,\n          2\n        ],\n        \"semantic_type\": \"\",\n        \"description\": \"\"\n      }\n    }\n  ]\n}"
            }
          },
          "metadata": {},
          "execution_count": 96
        }
      ]
    },
    {
      "cell_type": "markdown",
      "source": [
        "### To File\n",
        "\n",
        "For example to .csv"
      ],
      "metadata": {
        "id": "wn0hIptO5C8I"
      }
    },
    {
      "cell_type": "code",
      "source": [
        "high_income.write.csv('high_income.csv', header=True)"
      ],
      "metadata": {
        "id": "smtv-lZh5MV3"
      },
      "execution_count": 97,
      "outputs": []
    },
    {
      "cell_type": "markdown",
      "source": [
        "### To JSON"
      ],
      "metadata": {
        "id": "oUVGWIre5kpI"
      }
    },
    {
      "cell_type": "code",
      "source": [
        "high_income.toJSON().first()"
      ],
      "metadata": {
        "colab": {
          "base_uri": "https://localhost:8080/",
          "height": 54
        },
        "id": "0NNb692_5uPc",
        "outputId": "e4ff5e7c-7965-4abc-aa4c-fbda3c87d145"
      },
      "execution_count": 99,
      "outputs": [
        {
          "output_type": "execute_result",
          "data": {
            "text/plain": [
              "'{\"_c0\":16,\"CustomerID\":17,\"Gender\":\"Female\",\"Age\":35,\"Annual Income (k$)\":21,\"Spending Score (1-100)\":35,\"Label\":0}'"
            ],
            "application/vnd.google.colaboratory.intrinsic+json": {
              "type": "string"
            }
          },
          "metadata": {},
          "execution_count": 99
        }
      ]
    },
    {
      "cell_type": "markdown",
      "source": [
        "## To RDD"
      ],
      "metadata": {
        "id": "amhrM_bm6BkS"
      }
    },
    {
      "cell_type": "code",
      "source": [
        "high_income.rdd"
      ],
      "metadata": {
        "colab": {
          "base_uri": "https://localhost:8080/"
        },
        "id": "44HDjWKZ6C5P",
        "outputId": "03ccff93-ea76-44fa-fb04-2b1b2922051b"
      },
      "execution_count": 101,
      "outputs": [
        {
          "output_type": "execute_result",
          "data": {
            "text/plain": [
              "MapPartitionsRDD[292] at javaToPython at NativeMethodAccessorImpl.java:0"
            ]
          },
          "metadata": {},
          "execution_count": 101
        }
      ]
    },
    {
      "cell_type": "markdown",
      "source": [
        "# Connecting to Database\n",
        "\n",
        "**Please running this section in Visual Studio Code**\n",
        "\n",
        "We can connect PySpark to any database such as PostgreSQL.\n",
        "\n",
        "We will try to insert data from `high_income` data to PostgreSQL database.\n",
        "\n",
        "Firstly, you have to create the table, please run the query below:\n",
        "```sql\n",
        "CREATE TABLE customer_data (\n",
        "    CustomerID INT NOT NULL,              \n",
        "    Gender VARCHAR(10) NOT NULL,       \n",
        "    Age INT NOT NULL,                     \n",
        "    Annual_Income INT NOT NULL,\n",
        "    Spending_Score INT NOT NULL,          \n",
        "    Label INT NOT NULL                    \n",
        ");\n",
        "```"
      ],
      "metadata": {
        "id": "Vrwaqc4d351k"
      }
    },
    {
      "cell_type": "markdown",
      "source": [
        "### Create a connection\n",
        "\n",
        "Before we go further, we need to download JDBC driver to create the postgresql connection in PySpark. Download available [here](https://jdbc.postgresql.org/download.html). Note that you have to specify the version that match with Java version in your local computer.\n",
        "\n"
      ],
      "metadata": {
        "id": "a24V3P-crViz"
      }
    },
    {
      "cell_type": "markdown",
      "source": [
        "### Create the SparkSession and DataFrame\n",
        "\n",
        "```python\n",
        "from pyspark.sql import SparkSession\n",
        "\n",
        "\n",
        "spark = SparkSession\\\n",
        "    .builder\\\n",
        "    .appName(\"Python Spark PostgreSQL\")\\\n",
        "    .config(\"spark.jars\", \"path to jbdc driver .jar file\")\\\n",
        "    .getOrCreate()\n",
        "\n",
        "df = spark.read.csv('Mall Customers.csv', header=True, inferSchema=True)\n",
        "df = df.drop(\"_c0\")\n",
        "```"
      ],
      "metadata": {
        "id": "7uUTI6Ppscj6"
      }
    },
    {
      "cell_type": "markdown",
      "source": [
        "### Insert data into database\n",
        "\n",
        "```python\n",
        "# Replace these values with your database credentials\n",
        "db_user = \"your_db_username\"\n",
        "db_password = \"your_db_password\"\n",
        "db_host = \"localhost\"\n",
        "db_port = \"5432\"\n",
        "db_name = \"your_db_name\"\n",
        "\n",
        "df.write \\\n",
        "    .format(\"jdbc\") \\\n",
        "    .option(\"url\", f\"jdbc:postgresql://{db_host}:{db_port}/{db_name}\") \\\n",
        "    .option(\"dbtable\", \"customer_data\") \\\n",
        "    .option(\"user\", db_user) \\\n",
        "    .option(\"password\", db_password) \\\n",
        "    .option(\"driver\", \"org.postgresql.Driver\").save()\n",
        "```\n",
        "\n",
        "Furthermore, to read data from the table you can use the syntax below:\n",
        "```python\n",
        "data = spark.read \\\n",
        "    .format(\"jdbc\") \\\n",
        "    .option(\"url\", f\"jdbc:postgresql://{db_host}:{db_port}/{db_name}\") \\\n",
        "    .option(\"dbtable\", \"customer_data\") \\\n",
        "    .option(\"user\", db_user) \\\n",
        "    .option(\"password\", db_password) \\\n",
        "    .option(\"driver\", \"org.postgresql.Driver\").load()\n",
        "```"
      ],
      "metadata": {
        "id": "0BHrafnhuI4S"
      }
    },
    {
      "cell_type": "markdown",
      "source": [
        "### ALTERNATIVE\n",
        "\n",
        "If the codes above didn't work, you can convert the PySpark DataFrame into Pandas DataFrame and connect the Pandas with PostgreSQL using SQLAlchemy engine.\n",
        "\n",
        "`!pip -q install sqlalchemy psycopg2`\n",
        "\n",
        "And use those codes:\n",
        "```python\n",
        "from sqlalchemy import create_engine\n",
        "# Replace these values with your database credentials\n",
        "db_user = \"your_db_username\"\n",
        "db_password = \"your_db_password\"\n",
        "db_host = \"localhost\"\n",
        "db_port = \"5432\"\n",
        "db_name = \"your_db_name\"\n",
        "\n",
        "# Create a connection string\n",
        "connection_string = f\"postgresql+psycopg2://{db_user}:{db_password}@{db_host}:{db_port}/{db_name}\"\n",
        "\n",
        "# Create the database engine\n",
        "engine = create_engine(connection_string)\n",
        "\n",
        "\n",
        "df_pandas = df.toPandas()\n",
        "df_pandas.to_sql(\"customer_data\", engine, if_exists='replace', index=False)\n",
        "```\n",
        "\n",
        "**Note**: In real case, using Apache Spark means your data is big data, so if you convert into Pandas DataFrame, it might be inefficient. However, in our case in this module, there is no problem with this because the data is not a big data."
      ],
      "metadata": {
        "id": "bhhTAyyqvEpI"
      }
    },
    {
      "cell_type": "markdown",
      "source": [
        "# End of Spark Session\n",
        "\n",
        "To end the Spark session and context, you can run:\n",
        "\n",
        "`spark.stop()`"
      ],
      "metadata": {
        "id": "G0TZ_RD_6Iz9"
      }
    }
  ]
}