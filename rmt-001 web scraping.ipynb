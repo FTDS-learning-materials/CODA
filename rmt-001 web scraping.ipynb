{
 "cells": [
  {
   "cell_type": "code",
   "execution_count": 24,
   "metadata": {},
   "outputs": [],
   "source": [
    "from selenium import webdriver\n",
    "\n",
    "driver = webdriver.Safari()"
   ]
  },
  {
   "cell_type": "code",
   "execution_count": 75,
   "metadata": {},
   "outputs": [],
   "source": [
    "import time\n",
    "url=\"https://www.gramedia.com/categories/buku/fiksi-sastra/fantasi\"\n",
    "driver.get(url)\n",
    "time.sleep(0.8)"
   ]
  },
  {
   "cell_type": "code",
   "execution_count": 76,
   "metadata": {},
   "outputs": [],
   "source": [
    "from bs4 import BeautifulSoup\n",
    "html = driver.page_source\n",
    "soup = BeautifulSoup(html,'html.parser')"
   ]
  },
  {
   "cell_type": "markdown",
   "metadata": {},
   "source": [
    "```<h2 class=\"line-clamp-2 text-xs-medium text-neutral-700\" data-testid=\"productCardTitle\">Eragon</h2>\n",
    "<div class=\"truncate text-2xs-medium text-neutral-500\" data-testid=\"productCardAuthor\">Christopher Paolini</div>\n",
    "<div class=\"text-s-extrabold text-neutral-700\" data-testid=\"productCardFinalPrice\">Rp129.000</div>\n",
    "<img alt=\"Cerita Spesial Doraemon: Fantasi (2024)\" data-testid=\"productCardImage\" data-sentry-element=\"Image\" data-sentry-source-file=\"ProductCard.tsx\" fetchpriority=\"high\" decoding=\"async\" data-nimg=\"fill\" class=\"object-contain\" style=\"position: absolute; height: 100%; width: 100%; inset: 0px; color: transparent;\" src=\"https://image.gramedia.net/rs:fit:256:0/plain/https://cdn.gramedia.com/uploads/picture_meta/2024/6/4/5afkyx5vpakeebbbudyzzy.jpg\">\n",
    "<a data-sentry-element=\"LinkComponenent\" data-sentry-source-file=\"ProductCard.tsx\" href=\"https://gramedia.com/products/eragon-4\">\n",
    "</a>\n",
    "```"
   ]
  },
  {
   "cell_type": "code",
   "execution_count": 52,
   "metadata": {},
   "outputs": [
    {
     "data": {
      "text/plain": [
       "'Eragon'"
      ]
     },
     "execution_count": 52,
     "metadata": {},
     "output_type": "execute_result"
    }
   ],
   "source": [
    "titles_element = soup.find_all(\"h2\",{\"class\":\"line-clamp-2 text-xs-medium text-neutral-700\"})\n",
    "title = titles_element[1]\n",
    "title.text"
   ]
  },
  {
   "cell_type": "code",
   "execution_count": 53,
   "metadata": {},
   "outputs": [
    {
     "data": {
      "text/plain": [
       "['Tujuh Kelana',\n",
       " 'Eragon',\n",
       " 'Daughter of the Moon Goddess',\n",
       " 'Heart of the Sun Warrior',\n",
       " 'Children of Anguish and Anarchy (Legacy of Orisha #3)',\n",
       " 'We Free the Stars: Melepas Bintang',\n",
       " 'Solo Leveling 6',\n",
       " 'The Night Country (The Hazel Wood #2)',\n",
       " 'The Atala',\n",
       " 'Hotel Magnifique',\n",
       " 'Jini, Jinny',\n",
       " 'Mari Pergi Lebih Jauh',\n",
       " 'The Dragons Promise',\n",
       " 'Princess, Bajak Laut & Alien',\n",
       " 'Woke Up as a Villainess',\n",
       " 'Toko Jajanan Ajaib Zenitendo 5',\n",
       " 'Momo',\n",
       " 'Respati - Malam Pencabut Nyawa',\n",
       " 'This Winter, to You Who will be Gone',\n",
       " 'Toko Jajanan Ajaib Zenitendo 3']"
      ]
     },
     "execution_count": 53,
     "metadata": {},
     "output_type": "execute_result"
    }
   ],
   "source": [
    "titles=[]\n",
    "for title in titles_element:\n",
    "    titles.append(title.text)\n",
    "titles"
   ]
  },
  {
   "cell_type": "code",
   "execution_count": 54,
   "metadata": {},
   "outputs": [
    {
     "data": {
      "text/plain": [
       "['Tujuh Kelana',\n",
       " 'Eragon',\n",
       " 'Daughter of the Moon Goddess',\n",
       " 'Heart of the Sun Warrior',\n",
       " 'Children of Anguish and Anarchy (Legacy of Orisha #3)',\n",
       " 'We Free the Stars: Melepas Bintang',\n",
       " 'Solo Leveling 6',\n",
       " 'The Night Country (The Hazel Wood #2)',\n",
       " 'The Atala',\n",
       " 'Hotel Magnifique',\n",
       " 'Jini, Jinny',\n",
       " 'Mari Pergi Lebih Jauh',\n",
       " 'The Dragons Promise',\n",
       " 'Princess, Bajak Laut & Alien',\n",
       " 'Woke Up as a Villainess',\n",
       " 'Toko Jajanan Ajaib Zenitendo 5',\n",
       " 'Momo',\n",
       " 'Respati - Malam Pencabut Nyawa',\n",
       " 'This Winter, to You Who will be Gone',\n",
       " 'Toko Jajanan Ajaib Zenitendo 3']"
      ]
     },
     "execution_count": 54,
     "metadata": {},
     "output_type": "execute_result"
    }
   ],
   "source": [
    "titles = [title.text for title in titles_element]\n",
    "titles"
   ]
  },
  {
   "cell_type": "code",
   "execution_count": 55,
   "metadata": {},
   "outputs": [
    {
     "data": {
      "text/plain": [
       "['Christopher Paolini',\n",
       " 'Sue Lynn Tan',\n",
       " 'Sue Lynn Tan',\n",
       " 'Tomi Adeyemi',\n",
       " 'Hafsah Faizal',\n",
       " 'CHUGONG',\n",
       " 'Melissa Albert',\n",
       " 'Lyraemoon',\n",
       " 'Emily J. Taylor',\n",
       " 'Jeong You-Jeong',\n",
       " 'Ziggy Zezsyazeoviennazabrizkie',\n",
       " 'Elizabeth Lim',\n",
       " 'CLARA NG dan ICHA RAHMANTI',\n",
       " 'Namina Books',\n",
       " 'Reiko Hiroshima',\n",
       " 'Michael Ende',\n",
       " 'RAGIEL JP',\n",
       " 'm&c!',\n",
       " 'Reiko Hiroshima']"
      ]
     },
     "execution_count": 55,
     "metadata": {},
     "output_type": "execute_result"
    }
   ],
   "source": [
    "authors = [author.text for author in soup.find_all(\"div\",{\"class\":\"truncate text-2xs-medium text-neutral-500\"})]\n",
    "authors"
   ]
  },
  {
   "cell_type": "code",
   "execution_count": null,
   "metadata": {},
   "outputs": [],
   "source": [
    "'''\n",
    "<img alt=\"Cerita Spesial Doraemon: Fantasi (2024)\" data-testid=\"productCardImage\" data-sentry-element=\"Image\" data-sentry-source-file=\"ProductCard.tsx\" fetchpriority=\"high\" decoding=\"async\" data-nimg=\"fill\" class=\"object-contain\" style=\"position: absolute; height: 100%; width: 100%; inset: 0px; color: transparent;\" src=\"https://image.gramedia.net/rs:fit:256:0/plain/https://cdn.gramedia.com/uploads/picture_meta/2024/6/4/5afkyx5vpakeebbbudyzzy.jpg\">\n",
    "\n",
    "<a data-sentry-element=\"LinkComponenent\" data-sentry-source-file=\"ProductCard.tsx\" href=\"https://gramedia.com/products/eragon-4\">\n",
    "</a>\n",
    "'''"
   ]
  },
  {
   "cell_type": "code",
   "execution_count": 72,
   "metadata": {},
   "outputs": [
    {
     "data": {
      "text/plain": [
       "[<img alt=\"Tujuh Kelana\" class=\"object-contain\" data-nimg=\"fill\" data-sentry-element=\"Image\" data-sentry-source-file=\"ProductCard.tsx\" data-testid=\"productCardImage\" decoding=\"async\" fetchpriority=\"high\" src=\"https://image.gramedia.net/rs:fit:256:0/plain/https://cdn.gramedia.com/uploads/products/1c-chc72u9.jpg\" style=\"position: absolute; height: 100%; width: 100%; inset: 0px; color: transparent;\"/>,\n",
       " <img alt=\"Eragon\" class=\"object-contain\" data-nimg=\"fill\" data-sentry-element=\"Image\" data-sentry-source-file=\"ProductCard.tsx\" data-testid=\"productCardImage\" decoding=\"async\" fetchpriority=\"high\" src=\"https://image.gramedia.net/rs:fit:256:0/plain/https://cdn.gramedia.com/uploads/products/16a--zg89a.jpg\" style=\"position: absolute; height: 100%; width: 100%; inset: 0px; color: transparent;\"/>,\n",
       " <img alt=\"Daughter of the Moon Goddess\" class=\"object-contain\" data-nimg=\"fill\" data-sentry-element=\"Image\" data-sentry-source-file=\"ProductCard.tsx\" data-testid=\"productCardImage\" decoding=\"async\" fetchpriority=\"high\" src=\"https://image.gramedia.net/rs:fit:256:0/plain/https://cdn.gramedia.com/uploads/products/dog8d-emmt.png\" style=\"position: absolute; height: 100%; width: 100%; inset: 0px; color: transparent;\"/>,\n",
       " <img alt=\"Heart of the Sun Warrior\" class=\"object-contain\" data-nimg=\"fill\" data-sentry-element=\"Image\" data-sentry-source-file=\"ProductCard.tsx\" data-testid=\"productCardImage\" decoding=\"async\" fetchpriority=\"high\" src=\"https://image.gramedia.net/rs:fit:256:0/plain/https://cdn.gramedia.com/uploads/products/r0e9it75ov.png\" style=\"position: absolute; height: 100%; width: 100%; inset: 0px; color: transparent;\"/>,\n",
       " <img alt=\"Children of Anguish and Anarchy (Legacy of Orisha #3)\" class=\"object-contain\" data-nimg=\"fill\" data-sentry-element=\"Image\" data-sentry-source-file=\"ProductCard.tsx\" data-testid=\"productCardImage\" decoding=\"async\" fetchpriority=\"high\" src=\"https://image.gramedia.net/rs:fit:256:0/plain/https://cdn.gramedia.com/uploads/products/hncfocnc08.jpg\" style=\"position: absolute; height: 100%; width: 100%; inset: 0px; color: transparent;\"/>,\n",
       " <img alt=\"We Free the Stars: Melepas Bintang\" class=\"object-contain\" data-nimg=\"fill\" data-sentry-element=\"Image\" data-sentry-source-file=\"ProductCard.tsx\" data-testid=\"productCardImage\" decoding=\"async\" fetchpriority=\"high\" src=\"https://image.gramedia.net/rs:fit:256:0/plain/https://cdn.gramedia.com/uploads/products/rwn-00rein.jpg\" style=\"position: absolute; height: 100%; width: 100%; inset: 0px; color: transparent;\"/>,\n",
       " <img alt=\"Solo Leveling 6\" class=\"object-contain\" data-nimg=\"fill\" data-sentry-element=\"Image\" data-sentry-source-file=\"ProductCard.tsx\" data-testid=\"productCardImage\" decoding=\"async\" fetchpriority=\"high\" src=\"https://image.gramedia.net/rs:fit:256:0/plain/https://cdn.gramedia.com/uploads/picture_meta/2024/6/21/3847kgwiyhubaaragwwgrt.jpg\" style=\"position: absolute; height: 100%; width: 100%; inset: 0px; color: transparent;\"/>,\n",
       " <img alt=\"The Night Country (The Hazel Wood #2)\" class=\"object-contain\" data-nimg=\"fill\" data-sentry-element=\"Image\" data-sentry-source-file=\"ProductCard.tsx\" data-testid=\"productCardImage\" decoding=\"async\" fetchpriority=\"high\" src=\"https://image.gramedia.net/rs:fit:256:0/plain/https://cdn.gramedia.com/uploads/products/1hta96ri-t.jpg\" style=\"position: absolute; height: 100%; width: 100%; inset: 0px; color: transparent;\"/>,\n",
       " <img alt=\"The Atala\" class=\"object-contain\" data-nimg=\"fill\" data-sentry-element=\"Image\" data-sentry-source-file=\"ProductCard.tsx\" data-testid=\"productCardImage\" decoding=\"async\" fetchpriority=\"high\" src=\"https://image.gramedia.net/rs:fit:256:0/plain/https://cdn.gramedia.com/uploads/products/txa11xehtx.jpg\" style=\"position: absolute; height: 100%; width: 100%; inset: 0px; color: transparent;\"/>,\n",
       " <img alt=\"Hotel Magnifique\" class=\"object-contain\" data-nimg=\"fill\" data-sentry-element=\"Image\" data-sentry-source-file=\"ProductCard.tsx\" data-testid=\"productCardImage\" decoding=\"async\" fetchpriority=\"high\" src=\"https://image.gramedia.net/rs:fit:256:0/plain/https://cdn.gramedia.com/uploads/products/iiexu178ee.jpg\" style=\"position: absolute; height: 100%; width: 100%; inset: 0px; color: transparent;\"/>,\n",
       " <img alt=\"Jini, Jinny\" class=\"object-contain\" data-nimg=\"fill\" data-sentry-element=\"Image\" data-sentry-source-file=\"ProductCard.tsx\" data-testid=\"productCardImage\" decoding=\"async\" loading=\"lazy\" src=\"https://image.gramedia.net/rs:fit:256:0/plain/https://cdn.gramedia.com/uploads/picture_meta/2024/6/20/khwcxq7sjvrouyjqqqdsqw.jpg\" style=\"position: absolute; height: 100%; width: 100%; inset: 0px; color: transparent;\"/>,\n",
       " <img alt=\"Mari Pergi Lebih Jauh\" class=\"object-contain\" data-nimg=\"fill\" data-sentry-element=\"Image\" data-sentry-source-file=\"ProductCard.tsx\" data-testid=\"productCardImage\" decoding=\"async\" loading=\"lazy\" src=\"https://image.gramedia.net/rs:fit:256:0/plain/https://cdn.gramedia.com/uploads/picture_meta/2024/6/6/kwczmddfhdsptfurc4zwst.jpg\" style=\"position: absolute; height: 100%; width: 100%; inset: 0px; color: transparent;\"/>,\n",
       " <img alt=\"The Dragons Promise\" class=\"object-contain\" data-nimg=\"fill\" data-sentry-element=\"Image\" data-sentry-source-file=\"ProductCard.tsx\" data-testid=\"productCardImage\" decoding=\"async\" loading=\"lazy\" src=\"https://image.gramedia.net/rs:fit:256:0/plain/https://cdn.gramedia.com/uploads/products/sa9cc17321.jpg\" style=\"position: absolute; height: 100%; width: 100%; inset: 0px; color: transparent;\"/>,\n",
       " <img alt=\"Princess, Bajak Laut &amp; Alien\" class=\"object-contain\" data-nimg=\"fill\" data-sentry-element=\"Image\" data-sentry-source-file=\"ProductCard.tsx\" data-testid=\"productCardImage\" decoding=\"async\" loading=\"lazy\" src=\"https://image.gramedia.net/rs:fit:256:0/plain/https://cdn.gramedia.com/uploads/items/e43c2rpzuakf5ll8dc2yog.jpg\" style=\"position: absolute; height: 100%; width: 100%; inset: 0px; color: transparent;\"/>,\n",
       " <img alt=\"Woke Up as a Villainess\" class=\"object-contain\" data-nimg=\"fill\" data-sentry-element=\"Image\" data-sentry-source-file=\"ProductCard.tsx\" data-testid=\"productCardImage\" decoding=\"async\" loading=\"lazy\" src=\"https://image.gramedia.net/rs:fit:256:0/plain/https://cdn.gramedia.com/uploads/products/6i-p-p-zve.jpg\" style=\"position: absolute; height: 100%; width: 100%; inset: 0px; color: transparent;\"/>,\n",
       " <img alt=\"Toko Jajanan Ajaib Zenitendo 5\" class=\"object-contain\" data-nimg=\"fill\" data-sentry-element=\"Image\" data-sentry-source-file=\"ProductCard.tsx\" data-testid=\"productCardImage\" decoding=\"async\" loading=\"lazy\" src=\"https://image.gramedia.net/rs:fit:256:0/plain/https://cdn.gramedia.com/uploads/picture_meta/2024/6/2/9vp3jkjo8mdmqyqhcebmoa.jpg\" style=\"position: absolute; height: 100%; width: 100%; inset: 0px; color: transparent;\"/>,\n",
       " <img alt=\"Momo\" class=\"object-contain\" data-nimg=\"fill\" data-sentry-element=\"Image\" data-sentry-source-file=\"ProductCard.tsx\" data-testid=\"productCardImage\" decoding=\"async\" loading=\"lazy\" src=\"https://image.gramedia.net/rs:fit:256:0/plain/https://cdn.gramedia.com/uploads/picture_meta/2024/5/26/yy3xyihyhs9fxubkp33caq.jpg\" style=\"position: absolute; height: 100%; width: 100%; inset: 0px; color: transparent;\"/>,\n",
       " <img alt=\"Respati - Malam Pencabut Nyawa\" class=\"object-contain\" data-nimg=\"fill\" data-sentry-element=\"Image\" data-sentry-source-file=\"ProductCard.tsx\" data-testid=\"productCardImage\" decoding=\"async\" loading=\"lazy\" src=\"https://image.gramedia.net/rs:fit:256:0/plain/https://cdn.gramedia.com/uploads/picture_meta/2024/4/30/myz3nz8zyrjsdo5srz5udt.jpg\" style=\"position: absolute; height: 100%; width: 100%; inset: 0px; color: transparent;\"/>,\n",
       " <img alt=\"This Winter, to You Who will be Gone\" class=\"object-contain\" data-nimg=\"fill\" data-sentry-element=\"Image\" data-sentry-source-file=\"ProductCard.tsx\" data-testid=\"productCardImage\" decoding=\"async\" loading=\"lazy\" src=\"https://image.gramedia.net/rs:fit:256:0/plain/https://cdn.gramedia.com/uploads/items/kzppaancsxwnrsaft6uxsf.jpg\" style=\"position: absolute; height: 100%; width: 100%; inset: 0px; color: transparent;\"/>,\n",
       " <img alt=\"Toko Jajanan Ajaib Zenitendo 3\" class=\"object-contain\" data-nimg=\"fill\" data-sentry-element=\"Image\" data-sentry-source-file=\"ProductCard.tsx\" data-testid=\"productCardImage\" decoding=\"async\" loading=\"lazy\" src=\"https://image.gramedia.net/rs:fit:256:0/plain/https://cdn.gramedia.com/uploads/picture_meta/2024/4/21/fjhdwwnkymqn6zxsdcxuhe.jpg\" style=\"position: absolute; height: 100%; width: 100%; inset: 0px; color: transparent;\"/>]"
      ]
     },
     "execution_count": 72,
     "metadata": {},
     "output_type": "execute_result"
    }
   ],
   "source": [
    "soup.find_all('img',{\"data-testid\":\"productCardImage\",\"class\":\"object-contain\"})"
   ]
  },
  {
   "cell_type": "code",
   "execution_count": 61,
   "metadata": {},
   "outputs": [
    {
     "data": {
      "text/plain": [
       "'https://gramedia.com/products/tujuh-kelana-2'"
      ]
     },
     "execution_count": 61,
     "metadata": {},
     "output_type": "execute_result"
    }
   ],
   "source": [
    "soup.find_all('a',{\"data-sentry-element\":\"LinkComponenent\"})[0]['href']"
   ]
  },
  {
   "cell_type": "code",
   "execution_count": 80,
   "metadata": {},
   "outputs": [],
   "source": [
    "titles = [title.text for title in soup.find_all(\"h2\",{\"class\":\"line-clamp-2 text-xs-medium text-neutral-700\"})]\n",
    "authors = [author.text for author in soup.find_all(\"div\",{\"class\":\"truncate text-2xs-medium text-neutral-500\"})]\n",
    "prices = [price.text for price in soup.find_all(\"div\",{\"class\":\"text-s-extrabold text-neutral-700\"})]\n",
    "images = [image['src'] for image in soup.find_all('img',{\"data-testid\":\"productCardImage\"})]\n",
    "urls = [url['href'] for url in soup.find_all('a',{\"data-sentry-element\":\"LinkComponenent\"})]"
   ]
  },
  {
   "cell_type": "code",
   "execution_count": 86,
   "metadata": {},
   "outputs": [
    {
     "data": {
      "text/plain": [
       "(20, 19, 20, 20, 20)"
      ]
     },
     "execution_count": 86,
     "metadata": {},
     "output_type": "execute_result"
    }
   ],
   "source": [
    "len(titles),len(authors),len(prices),len(images),len(urls)"
   ]
  },
  {
   "cell_type": "code",
   "execution_count": 87,
   "metadata": {},
   "outputs": [
    {
     "data": {
      "text/html": [
       "<div>\n",
       "<style scoped>\n",
       "    .dataframe tbody tr th:only-of-type {\n",
       "        vertical-align: middle;\n",
       "    }\n",
       "\n",
       "    .dataframe tbody tr th {\n",
       "        vertical-align: top;\n",
       "    }\n",
       "\n",
       "    .dataframe thead th {\n",
       "        text-align: right;\n",
       "    }\n",
       "</style>\n",
       "<table border=\"1\" class=\"dataframe\">\n",
       "  <thead>\n",
       "    <tr style=\"text-align: right;\">\n",
       "      <th></th>\n",
       "      <th>Title</th>\n",
       "      <th>Price</th>\n",
       "      <th>Image</th>\n",
       "      <th>URL</th>\n",
       "    </tr>\n",
       "  </thead>\n",
       "  <tbody>\n",
       "    <tr>\n",
       "      <th>0</th>\n",
       "      <td>Tujuh Kelana</td>\n",
       "      <td>Rp118.000</td>\n",
       "      <td>https://image.gramedia.net/rs:fit:256:0/plain/...</td>\n",
       "      <td>https://gramedia.com/products/tujuh-kelana-2</td>\n",
       "    </tr>\n",
       "    <tr>\n",
       "      <th>1</th>\n",
       "      <td>Eragon</td>\n",
       "      <td>Rp129.000</td>\n",
       "      <td>https://image.gramedia.net/rs:fit:256:0/plain/...</td>\n",
       "      <td>https://gramedia.com/products/eragon-4</td>\n",
       "    </tr>\n",
       "    <tr>\n",
       "      <th>2</th>\n",
       "      <td>Daughter of the Moon Goddess</td>\n",
       "      <td>Rp130.500</td>\n",
       "      <td>https://image.gramedia.net/rs:fit:256:0/plain/...</td>\n",
       "      <td>https://gramedia.com/products/daughter-of-the-...</td>\n",
       "    </tr>\n",
       "    <tr>\n",
       "      <th>3</th>\n",
       "      <td>Heart of the Sun Warrior</td>\n",
       "      <td>Rp121.500</td>\n",
       "      <td>https://image.gramedia.net/rs:fit:256:0/plain/...</td>\n",
       "      <td>https://gramedia.com/products/heart-of-the-sun...</td>\n",
       "    </tr>\n",
       "    <tr>\n",
       "      <th>4</th>\n",
       "      <td>Children of Anguish and Anarchy (Legacy of Ori...</td>\n",
       "      <td>Rp116.000</td>\n",
       "      <td>https://image.gramedia.net/rs:fit:256:0/plain/...</td>\n",
       "      <td>https://gramedia.com/products/children-of-angu...</td>\n",
       "    </tr>\n",
       "    <tr>\n",
       "      <th>5</th>\n",
       "      <td>We Free the Stars: Melepas Bintang</td>\n",
       "      <td>Rp152.000</td>\n",
       "      <td>https://image.gramedia.net/rs:fit:256:0/plain/...</td>\n",
       "      <td>https://gramedia.com/products/we-free-the-star...</td>\n",
       "    </tr>\n",
       "    <tr>\n",
       "      <th>6</th>\n",
       "      <td>Solo Leveling 6</td>\n",
       "      <td>Rp92.000</td>\n",
       "      <td>https://image.gramedia.net/rs:fit:256:0/plain/...</td>\n",
       "      <td>https://gramedia.com/products/solo-leveling-6</td>\n",
       "    </tr>\n",
       "    <tr>\n",
       "      <th>7</th>\n",
       "      <td>The Night Country (The Hazel Wood #2)</td>\n",
       "      <td>Rp94.400</td>\n",
       "      <td>https://image.gramedia.net/rs:fit:256:0/plain/...</td>\n",
       "      <td>https://gramedia.com/products/the-night-countr...</td>\n",
       "    </tr>\n",
       "    <tr>\n",
       "      <th>8</th>\n",
       "      <td>The Atala</td>\n",
       "      <td>Rp89.550</td>\n",
       "      <td>https://image.gramedia.net/rs:fit:256:0/plain/...</td>\n",
       "      <td>https://gramedia.com/products/the-atala</td>\n",
       "    </tr>\n",
       "    <tr>\n",
       "      <th>9</th>\n",
       "      <td>Hotel Magnifique</td>\n",
       "      <td>Rp116.100</td>\n",
       "      <td>https://image.gramedia.net/rs:fit:256:0/plain/...</td>\n",
       "      <td>https://gramedia.com/products/hotel-magnifique</td>\n",
       "    </tr>\n",
       "    <tr>\n",
       "      <th>10</th>\n",
       "      <td>Jini, Jinny</td>\n",
       "      <td>Rp79.200</td>\n",
       "      <td>https://image.gramedia.net/rs:fit:256:0/plain/...</td>\n",
       "      <td>https://gramedia.com/products/jini-jinny</td>\n",
       "    </tr>\n",
       "    <tr>\n",
       "      <th>11</th>\n",
       "      <td>Mari Pergi Lebih Jauh</td>\n",
       "      <td>Rp87.200</td>\n",
       "      <td>https://image.gramedia.net/rs:fit:256:0/plain/...</td>\n",
       "      <td>https://gramedia.com/products/mari-pergi-lebih...</td>\n",
       "    </tr>\n",
       "    <tr>\n",
       "      <th>12</th>\n",
       "      <td>The Dragons Promise</td>\n",
       "      <td>Rp134.100</td>\n",
       "      <td>https://image.gramedia.net/rs:fit:256:0/plain/...</td>\n",
       "      <td>https://gramedia.com/products/the-dragons-promise</td>\n",
       "    </tr>\n",
       "    <tr>\n",
       "      <th>13</th>\n",
       "      <td>Princess, Bajak Laut &amp; Alien</td>\n",
       "      <td>Rp79.200</td>\n",
       "      <td>https://image.gramedia.net/rs:fit:256:0/plain/...</td>\n",
       "      <td>https://gramedia.com/products/princess-bajak-l...</td>\n",
       "    </tr>\n",
       "    <tr>\n",
       "      <th>14</th>\n",
       "      <td>Woke Up as a Villainess</td>\n",
       "      <td>Rp89.100</td>\n",
       "      <td>https://image.gramedia.net/rs:fit:256:0/plain/...</td>\n",
       "      <td>https://gramedia.com/products/woke-up-as-a-vil...</td>\n",
       "    </tr>\n",
       "    <tr>\n",
       "      <th>15</th>\n",
       "      <td>Toko Jajanan Ajaib Zenitendo 5</td>\n",
       "      <td>Rp56.000</td>\n",
       "      <td>https://image.gramedia.net/rs:fit:256:0/plain/...</td>\n",
       "      <td>https://gramedia.com/products/toko-jajanan-aja...</td>\n",
       "    </tr>\n",
       "    <tr>\n",
       "      <th>16</th>\n",
       "      <td>Momo</td>\n",
       "      <td>Rp71.200</td>\n",
       "      <td>https://image.gramedia.net/rs:fit:256:0/plain/...</td>\n",
       "      <td>https://gramedia.com/products/momo</td>\n",
       "    </tr>\n",
       "    <tr>\n",
       "      <th>17</th>\n",
       "      <td>Respati - Malam Pencabut Nyawa</td>\n",
       "      <td>Rp65.600</td>\n",
       "      <td>https://image.gramedia.net/rs:fit:256:0/plain/...</td>\n",
       "      <td>https://gramedia.com/products/respati-malam-pe...</td>\n",
       "    </tr>\n",
       "    <tr>\n",
       "      <th>18</th>\n",
       "      <td>This Winter, to You Who will be Gone</td>\n",
       "      <td>Rp70.400</td>\n",
       "      <td>https://image.gramedia.net/rs:fit:256:0/plain/...</td>\n",
       "      <td>https://gramedia.com/products/this-winter-to-y...</td>\n",
       "    </tr>\n",
       "    <tr>\n",
       "      <th>19</th>\n",
       "      <td>Toko Jajanan Ajaib Zenitendo 3</td>\n",
       "      <td>Rp56.000</td>\n",
       "      <td>https://image.gramedia.net/rs:fit:256:0/plain/...</td>\n",
       "      <td>https://gramedia.com/products/toko-jajanan-aja...</td>\n",
       "    </tr>\n",
       "  </tbody>\n",
       "</table>\n",
       "</div>"
      ],
      "text/plain": [
       "                                                Title      Price  \\\n",
       "0                                        Tujuh Kelana  Rp118.000   \n",
       "1                                              Eragon  Rp129.000   \n",
       "2                        Daughter of the Moon Goddess  Rp130.500   \n",
       "3                            Heart of the Sun Warrior  Rp121.500   \n",
       "4   Children of Anguish and Anarchy (Legacy of Ori...  Rp116.000   \n",
       "5                  We Free the Stars: Melepas Bintang  Rp152.000   \n",
       "6                                     Solo Leveling 6   Rp92.000   \n",
       "7               The Night Country (The Hazel Wood #2)   Rp94.400   \n",
       "8                                           The Atala   Rp89.550   \n",
       "9                                    Hotel Magnifique  Rp116.100   \n",
       "10                                        Jini, Jinny   Rp79.200   \n",
       "11                              Mari Pergi Lebih Jauh   Rp87.200   \n",
       "12                                The Dragons Promise  Rp134.100   \n",
       "13                       Princess, Bajak Laut & Alien   Rp79.200   \n",
       "14                            Woke Up as a Villainess   Rp89.100   \n",
       "15                     Toko Jajanan Ajaib Zenitendo 5   Rp56.000   \n",
       "16                                               Momo   Rp71.200   \n",
       "17                     Respati - Malam Pencabut Nyawa   Rp65.600   \n",
       "18               This Winter, to You Who will be Gone   Rp70.400   \n",
       "19                     Toko Jajanan Ajaib Zenitendo 3   Rp56.000   \n",
       "\n",
       "                                                Image  \\\n",
       "0   https://image.gramedia.net/rs:fit:256:0/plain/...   \n",
       "1   https://image.gramedia.net/rs:fit:256:0/plain/...   \n",
       "2   https://image.gramedia.net/rs:fit:256:0/plain/...   \n",
       "3   https://image.gramedia.net/rs:fit:256:0/plain/...   \n",
       "4   https://image.gramedia.net/rs:fit:256:0/plain/...   \n",
       "5   https://image.gramedia.net/rs:fit:256:0/plain/...   \n",
       "6   https://image.gramedia.net/rs:fit:256:0/plain/...   \n",
       "7   https://image.gramedia.net/rs:fit:256:0/plain/...   \n",
       "8   https://image.gramedia.net/rs:fit:256:0/plain/...   \n",
       "9   https://image.gramedia.net/rs:fit:256:0/plain/...   \n",
       "10  https://image.gramedia.net/rs:fit:256:0/plain/...   \n",
       "11  https://image.gramedia.net/rs:fit:256:0/plain/...   \n",
       "12  https://image.gramedia.net/rs:fit:256:0/plain/...   \n",
       "13  https://image.gramedia.net/rs:fit:256:0/plain/...   \n",
       "14  https://image.gramedia.net/rs:fit:256:0/plain/...   \n",
       "15  https://image.gramedia.net/rs:fit:256:0/plain/...   \n",
       "16  https://image.gramedia.net/rs:fit:256:0/plain/...   \n",
       "17  https://image.gramedia.net/rs:fit:256:0/plain/...   \n",
       "18  https://image.gramedia.net/rs:fit:256:0/plain/...   \n",
       "19  https://image.gramedia.net/rs:fit:256:0/plain/...   \n",
       "\n",
       "                                                  URL  \n",
       "0        https://gramedia.com/products/tujuh-kelana-2  \n",
       "1              https://gramedia.com/products/eragon-4  \n",
       "2   https://gramedia.com/products/daughter-of-the-...  \n",
       "3   https://gramedia.com/products/heart-of-the-sun...  \n",
       "4   https://gramedia.com/products/children-of-angu...  \n",
       "5   https://gramedia.com/products/we-free-the-star...  \n",
       "6       https://gramedia.com/products/solo-leveling-6  \n",
       "7   https://gramedia.com/products/the-night-countr...  \n",
       "8             https://gramedia.com/products/the-atala  \n",
       "9      https://gramedia.com/products/hotel-magnifique  \n",
       "10           https://gramedia.com/products/jini-jinny  \n",
       "11  https://gramedia.com/products/mari-pergi-lebih...  \n",
       "12  https://gramedia.com/products/the-dragons-promise  \n",
       "13  https://gramedia.com/products/princess-bajak-l...  \n",
       "14  https://gramedia.com/products/woke-up-as-a-vil...  \n",
       "15  https://gramedia.com/products/toko-jajanan-aja...  \n",
       "16                 https://gramedia.com/products/momo  \n",
       "17  https://gramedia.com/products/respati-malam-pe...  \n",
       "18  https://gramedia.com/products/this-winter-to-y...  \n",
       "19  https://gramedia.com/products/toko-jajanan-aja...  "
      ]
     },
     "execution_count": 87,
     "metadata": {},
     "output_type": "execute_result"
    }
   ],
   "source": [
    "import pandas as pd\n",
    "\n",
    "data = pd.DataFrame({\"Title\":titles,\n",
    "                     #\"Author\":authors,\n",
    "                     \"Price\":prices,\n",
    "                     \"Image\":images,\n",
    "                     \"URL\":urls})\n",
    "data"
   ]
  }
 ],
 "metadata": {
  "kernelspec": {
   "display_name": "base",
   "language": "python",
   "name": "python3"
  },
  "language_info": {
   "codemirror_mode": {
    "name": "ipython",
    "version": 3
   },
   "file_extension": ".py",
   "mimetype": "text/x-python",
   "name": "python",
   "nbconvert_exporter": "python",
   "pygments_lexer": "ipython3",
   "version": "3.9.13"
  }
 },
 "nbformat": 4,
 "nbformat_minor": 2
}
